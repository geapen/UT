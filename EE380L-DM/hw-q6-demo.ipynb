{
 "cells": [
  {
   "cell_type": "code",
   "execution_count": 1,
   "metadata": {
    "collapsed": true
   },
   "outputs": [],
   "source": [
    "import numpy as np\n",
    "X = np.array([ [0,0,1],[0,1,1],[1,0,1],[1,1,1] ])\n",
    "y = np.array([[0,1,1,0]]).T\n",
    "alpha,hidden_dim = (0.5,4)\n"
   ]
  },
  {
   "cell_type": "code",
   "execution_count": 11,
   "metadata": {
    "collapsed": false
   },
   "outputs": [
    {
     "name": "stdout",
     "output_type": "stream",
     "text": [
      "Starting gradient descent at b = 0, m = 0, error = 5565.10783448\n",
      "Running...\n",
      "After 10 iterations b = 0.0296393478747, m = 1.47741737555, error = 112.655851815\n"
     ]
    }
   ],
   "source": [
    "from numpy import *\n",
    "\n",
    "# y = mx + b\n",
    "# m is slope, b is y-intercept\n",
    "def compute_error_for_line_given_points(b, m, points):\n",
    "    totalError = 0\n",
    "    for i in range(0, len(points)):\n",
    "        x = points[i, 0]\n",
    "        y = points[i, 1]\n",
    "        totalError += (y - (m * x + b)) ** 2\n",
    "    return totalError / float(len(points))\n",
    "\n",
    "def step_gradient(b_current, m_current, points, learningRate):\n",
    "    b_gradient = 0\n",
    "    m_gradient = 0\n",
    "    N = float(len(points))\n",
    "    for i in range(0, len(points)):\n",
    "        x = points[i, 0]\n",
    "        y = points[i, 1]\n",
    "        b_gradient += -(2/N) * (y - ((m_current * x) + b_current))\n",
    "        m_gradient += -(2/N) * x * (y - ((m_current * x) + b_current))\n",
    "    new_b = b_current - (learningRate * b_gradient)\n",
    "    new_m = m_current - (learningRate * m_gradient)\n",
    "    return [new_b, new_m]\n",
    "\n",
    "def gradient_descent_runner(points, starting_b, starting_m, learning_rate, num_iterations):\n",
    "    b = starting_b\n",
    "    m = starting_m\n",
    "    for i in range(num_iterations):\n",
    "        b, m = step_gradient(b, m, array(points), learning_rate)\n",
    "    return [b, m]\n",
    "\n",
    "def run():\n",
    "    points = genfromtxt(\"data.csv\", delimiter=\",\")\n",
    "    learning_rate = 0.0001\n",
    "    initial_b = 0 # initial y-intercept guess\n",
    "    initial_m = 0 # initial slope guess\n",
    "    num_iterations = 10\n",
    "    print \"Starting gradient descent at b = {0}, m = {1}, error = {2}\".format(initial_b, initial_m, compute_error_for_line_given_points(initial_b, initial_m, points))\n",
    "    print \"Running...\"\n",
    "    [b, m] = gradient_descent_runner(points, initial_b, initial_m, learning_rate, num_iterations)\n",
    "    print \"After {0} iterations b = {1}, m = {2}, error = {3}\".format(num_iterations, b, m, compute_error_for_line_given_points(b, m, points))\n",
    "\n",
    "if __name__ == '__main__':\n",
    "    run()"
   ]
  },
  {
   "cell_type": "code",
   "execution_count": 17,
   "metadata": {
    "collapsed": true
   },
   "outputs": [],
   "source": [
    "# Fitting a degree d polynomial to the data (X,y)\n",
    "def fit_degree_d_poly(X,y,d):\n",
    "    n = X.shape[0]\n",
    "    Z = np.meshgrid(X,np.arange(d+1))[0]\n",
    "    Z = Z.transpose()\n",
    "    P = np.meshgrid(np.arange(d+1),np.arange(n))[0]\n",
    "    W = Z**P\n",
    "    coeff = find_regressor(W,y)\n",
    "    return coeff\n",
    "def find_regressor(X,y):\n",
    "    beta = np.linalg.lstsq(X,y)[0]\n",
    "    return beta "
   ]
  },
  {
   "cell_type": "code",
   "execution_count": null,
   "metadata": {
    "collapsed": true
   },
   "outputs": [],
   "source": []
  },
  {
   "cell_type": "code",
   "execution_count": 18,
   "metadata": {
    "collapsed": false
   },
   "outputs": [
    {
     "name": "stdout",
     "output_type": "stream",
     "text": [
      "[-2. -1.  1.  2.]\n"
     ]
    }
   ],
   "source": [
    "import numpy as np\n",
    "X = np.random.randn(4)\n",
    "len(X)\n",
    "X[0] = -2\n",
    "X[1] = -1\n",
    "X[2] = 1\n",
    "X[3] = 2\n",
    "print X\n",
    "\n"
   ]
  },
  {
   "cell_type": "code",
   "execution_count": 19,
   "metadata": {
    "collapsed": false
   },
   "outputs": [
    {
     "name": "stdout",
     "output_type": "stream",
     "text": [
      "[ 2.1   0.95 -0.96 -1.92]\n"
     ]
    }
   ],
   "source": [
    "Y = np.random.randn(4)\n",
    "Y[0] = 2.1\n",
    "Y[1] = 0.95\n",
    "Y[2] = -0.96\n",
    "Y[3] = -1.92\n",
    "print Y"
   ]
  },
  {
   "cell_type": "code",
   "execution_count": 20,
   "metadata": {
    "collapsed": false
   },
   "outputs": [
    {
     "name": "stdout",
     "output_type": "stream",
     "text": [
      "[-0.03666667 -0.995       0.03166667]\n"
     ]
    }
   ],
   "source": [
    "# Let's fit a degree d polynomial using the above function\n",
    "d = 2\n",
    "coeff = fit_degree_d_poly(X,Y,d)\n",
    "poly = np.poly1d(coeff[::-1])\n",
    "print coeff"
   ]
  },
  {
   "cell_type": "code",
   "execution_count": 22,
   "metadata": {
    "collapsed": false
   },
   "outputs": [],
   "source": [
    "import matplotlib.pyplot as plt\n",
    "ys = poly(np.arange(X.min(),X.max(),0.01))\n",
    "plt.plot(np.arange(X.min(),X.max(),0.01),ys)\n",
    "plt.plot(X, Y, 'o')\n",
    "#plt.plot(X_test,y_test,'+')\n",
    "#plot(x, ys)\n",
    "plt.ylabel('Y')\n",
    "plt.xlabel('X')\n",
    "plt.show()"
   ]
  },
  {
   "cell_type": "code",
   "execution_count": 8,
   "metadata": {
    "collapsed": false
   },
   "outputs": [
    {
     "name": "stdout",
     "output_type": "stream",
     "text": [
      "[0.32225428, 1.84875917, 2.7404421, -0.52934847]\n",
      "[-0.28659247 -1.17204296 -0.41795975  0.76444075]\n"
     ]
    }
   ],
   "source": [
    "print x\n",
    "print np.random.randn(4)"
   ]
  },
  {
   "cell_type": "code",
   "execution_count": 24,
   "metadata": {
    "collapsed": false
   },
   "outputs": [
    {
     "name": "stdout",
     "output_type": "stream",
     "text": [
      "[1 2 3 4]\n"
     ]
    }
   ],
   "source": []
  },
  {
   "cell_type": "markdown",
   "metadata": {},
   "source": [
    "x = np.array([-2, -1, 1, 2])\n",
    "y = np.array([2.1, 0.95, -0.96, -1.92])\n",
    "A = np.vstack([x, np.ones(len(x))]).T\n",
    "print A\n",
    "m, c = np.linalg.lstsq(A, y)[0]\n",
    "print m, c"
   ]
  },
  {
   "cell_type": "code",
   "execution_count": 26,
   "metadata": {
    "collapsed": false
   },
   "outputs": [
    {
     "name": "stdout",
     "output_type": "stream",
     "text": [
      "[[-2.  1.]\n",
      " [-1.  1.]\n",
      " [ 1.  1.]\n",
      " [ 2.  1.]]\n",
      "-0.995 0.0425\n"
     ]
    }
   ],
   "source": [
    "x = np.array([-2, -1, 1, 2]) \n",
    "y = np.array([2.1, 0.95, -0.96, -1.92]) \n",
    "A = np.vstack([x, np.ones(len(x))]).T \n",
    "print A \n",
    "m, c = np.linalg.lstsq(A, y)[0] \n",
    "print m, c"
   ]
  },
  {
   "cell_type": "code",
   "execution_count": null,
   "metadata": {
    "collapsed": true
   },
   "outputs": [],
   "source": []
  }
 ],
 "metadata": {
  "kernelspec": {
   "display_name": "Python 2",
   "language": "python",
   "name": "python2"
  },
  "language_info": {
   "codemirror_mode": {
    "name": "ipython",
    "version": 2
   },
   "file_extension": ".py",
   "mimetype": "text/x-python",
   "name": "python",
   "nbconvert_exporter": "python",
   "pygments_lexer": "ipython2",
   "version": "2.7.11"
  }
 },
 "nbformat": 4,
 "nbformat_minor": 0
}
