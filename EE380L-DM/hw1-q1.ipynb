{
 "cells": [
  {
   "cell_type": "code",
   "execution_count": 1,
   "metadata": {
    "collapsed": true
   },
   "outputs": [],
   "source": [
    "# http://pandas.pydata.org/pandas-docs/stable/index.html\n",
    "# Name: Gabe Eapen\n",
    "# UT EID: eapengp\n",
    "# PS1 - Q1\n",
    "\n",
    "import pandas as pd"
   ]
  },
  {
   "cell_type": "code",
   "execution_count": 2,
   "metadata": {
    "collapsed": true
   },
   "outputs": [],
   "source": [
    "df = pd.read_csv('cs52.csv')"
   ]
  },
  {
   "cell_type": "code",
   "execution_count": 3,
   "metadata": {
    "collapsed": false
   },
   "outputs": [
    {
     "name": "stdout",
     "output_type": "stream",
     "text": [
      "Index([u'Name', u'University', u'JoinYear', u'Rank', u'Subfield', u'Bachelors',\n",
      "       u'Masters', u'Doctorate', u'PostDoc', u'Sources1', u'Sources2',\n",
      "       u'Sources3', u'Sources4'],\n",
      "      dtype='object')\n"
     ]
    }
   ],
   "source": [
    "print(df.columns)"
   ]
  },
  {
   "cell_type": "code",
   "execution_count": 4,
   "metadata": {
    "collapsed": false
   },
   "outputs": [
    {
     "data": {
      "text/html": [
       "<div>\n",
       "<table border=\"1\" class=\"dataframe\">\n",
       "  <thead>\n",
       "    <tr style=\"text-align: right;\">\n",
       "      <th></th>\n",
       "      <th>Name</th>\n",
       "      <th>University</th>\n",
       "      <th>JoinYear</th>\n",
       "      <th>Rank</th>\n",
       "      <th>Subfield</th>\n",
       "      <th>Bachelors</th>\n",
       "      <th>Masters</th>\n",
       "      <th>Doctorate</th>\n",
       "      <th>PostDoc</th>\n",
       "      <th>Sources1</th>\n",
       "      <th>Sources2</th>\n",
       "      <th>Sources3</th>\n",
       "      <th>Sources4</th>\n",
       "    </tr>\n",
       "  </thead>\n",
       "  <tbody>\n",
       "    <tr>\n",
       "      <th>0</th>\n",
       "      <td>Chitta Baral</td>\n",
       "      <td>Arizona State University</td>\n",
       "      <td>1999</td>\n",
       "      <td>Full</td>\n",
       "      <td>Natural Language &amp; Speech</td>\n",
       "      <td>Indian Institute of Technology - Kanpur - India</td>\n",
       "      <td>University of Maryland - College Park - USA</td>\n",
       "      <td>University of Maryland - College Park - USA</td>\n",
       "      <td>NaN</td>\n",
       "      <td>http://cidse.engineering.asu.edu/directory/chi...</td>\n",
       "      <td>NaN</td>\n",
       "      <td>NaN</td>\n",
       "      <td>NaN</td>\n",
       "    </tr>\n",
       "    <tr>\n",
       "      <th>1</th>\n",
       "      <td>Kasim Candan</td>\n",
       "      <td>Arizona State University</td>\n",
       "      <td>1997</td>\n",
       "      <td>Full</td>\n",
       "      <td>Databases</td>\n",
       "      <td>Bilkent University - Turkey</td>\n",
       "      <td>NaN</td>\n",
       "      <td>University of Maryland - College Park - USA</td>\n",
       "      <td>NaN</td>\n",
       "      <td>http://cidse.engineering.asu.edu/directory/can...</td>\n",
       "      <td>NaN</td>\n",
       "      <td>NaN</td>\n",
       "      <td>NaN</td>\n",
       "    </tr>\n",
       "    <tr>\n",
       "      <th>2</th>\n",
       "      <td>Charles Colbourn</td>\n",
       "      <td>Arizona State University</td>\n",
       "      <td>2001</td>\n",
       "      <td>Full</td>\n",
       "      <td>Networks &amp; Communications</td>\n",
       "      <td>University of Toronto - Canada</td>\n",
       "      <td>University of Waterloo - Ontario - Canada</td>\n",
       "      <td>University of Toronto - Canada</td>\n",
       "      <td>NaN</td>\n",
       "      <td>http://cidse.engineering.asu.edu/directory/cha...</td>\n",
       "      <td>NaN</td>\n",
       "      <td>NaN</td>\n",
       "      <td>NaN</td>\n",
       "    </tr>\n",
       "  </tbody>\n",
       "</table>\n",
       "</div>"
      ],
      "text/plain": [
       "               Name                University  JoinYear  Rank  \\\n",
       "0      Chitta Baral  Arizona State University      1999  Full   \n",
       "1      Kasim Candan  Arizona State University      1997  Full   \n",
       "2  Charles Colbourn  Arizona State University      2001  Full   \n",
       "\n",
       "                    Subfield                                        Bachelors  \\\n",
       "0  Natural Language & Speech  Indian Institute of Technology - Kanpur - India   \n",
       "1                  Databases                      Bilkent University - Turkey   \n",
       "2  Networks & Communications                   University of Toronto - Canada   \n",
       "\n",
       "                                       Masters  \\\n",
       "0  University of Maryland - College Park - USA   \n",
       "1                                          NaN   \n",
       "2    University of Waterloo - Ontario - Canada   \n",
       "\n",
       "                                     Doctorate PostDoc  \\\n",
       "0  University of Maryland - College Park - USA     NaN   \n",
       "1  University of Maryland - College Park - USA     NaN   \n",
       "2               University of Toronto - Canada     NaN   \n",
       "\n",
       "                                            Sources1 Sources2 Sources3  \\\n",
       "0  http://cidse.engineering.asu.edu/directory/chi...      NaN      NaN   \n",
       "1  http://cidse.engineering.asu.edu/directory/can...      NaN      NaN   \n",
       "2  http://cidse.engineering.asu.edu/directory/cha...      NaN      NaN   \n",
       "\n",
       "  Sources4  \n",
       "0      NaN  \n",
       "1      NaN  \n",
       "2      NaN  "
      ]
     },
     "execution_count": 4,
     "metadata": {},
     "output_type": "execute_result"
    }
   ],
   "source": [
    "df.head(n=3)"
   ]
  },
  {
   "cell_type": "code",
   "execution_count": 6,
   "metadata": {
    "collapsed": false
   },
   "outputs": [
    {
     "data": {
      "text/plain": [
       "13"
      ]
     },
     "execution_count": 6,
     "metadata": {},
     "output_type": "execute_result"
    }
   ],
   "source": [
    "df[df.University.str.contains(\"University of California - Berkeley\") & df.Doctorate.str.contains(\"University of California - Berkeley\")].Name.count()"
   ]
  },
  {
   "cell_type": "code",
   "execution_count": 7,
   "metadata": {
    "collapsed": true
   },
   "outputs": [],
   "source": [
    "filtered_df = df[df.University.str.contains(\"University of California - Berkeley\") & df.Doctorate.str.contains(\"University of California - Berkeley\")]"
   ]
  },
  {
   "cell_type": "code",
   "execution_count": 14,
   "metadata": {
    "collapsed": false
   },
   "outputs": [
    {
     "name": "stdout",
     "output_type": "stream",
     "text": [
      "13\n"
     ]
    }
   ],
   "source": [
    "print(filtered_df.Name.count())"
   ]
  },
  {
   "cell_type": "code",
   "execution_count": 15,
   "metadata": {
    "collapsed": false
   },
   "outputs": [
    {
     "data": {
      "text/plain": [
       "13"
      ]
     },
     "execution_count": 15,
     "metadata": {},
     "output_type": "execute_result"
    }
   ],
   "source": [
    "len(filtered_df)"
   ]
  },
  {
   "cell_type": "code",
   "execution_count": null,
   "metadata": {
    "collapsed": true
   },
   "outputs": [],
   "source": []
  }
 ],
 "metadata": {
  "kernelspec": {
   "display_name": "Python 2",
   "language": "python",
   "name": "python2"
  },
  "language_info": {
   "codemirror_mode": {
    "name": "ipython",
    "version": 2
   },
   "file_extension": ".py",
   "mimetype": "text/x-python",
   "name": "python",
   "nbconvert_exporter": "python",
   "pygments_lexer": "ipython2",
   "version": "2.7.11"
  }
 },
 "nbformat": 4,
 "nbformat_minor": 0
}
