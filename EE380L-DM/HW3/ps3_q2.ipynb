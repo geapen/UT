{
 "cells": [
  {
   "cell_type": "code",
   "execution_count": 1,
   "metadata": {
    "collapsed": true
   },
   "outputs": [],
   "source": [
    "# Name: Gabe Eapen\n",
    "# UT EID: eapengp\n",
    "# PS3 - Q2"
   ]
  },
  {
   "cell_type": "code",
   "execution_count": 2,
   "metadata": {
    "collapsed": true
   },
   "outputs": [],
   "source": [
    "import pandas as pd\n",
    "import numpy as np\n",
    "import matplotlib.pyplot as plt\n",
    "%matplotlib inline\n",
    "from sklearn import cross_validation\n",
    "from sklearn import datasets\n",
    "from sklearn import svm"
   ]
  },
  {
   "cell_type": "code",
   "execution_count": 3,
   "metadata": {
    "collapsed": false
   },
   "outputs": [],
   "source": [
    "# Use only cars2010\n",
    "df=pd.read_stata(\"cars2010.dta\")"
   ]
  },
  {
   "cell_type": "code",
   "execution_count": 4,
   "metadata": {
    "collapsed": false
   },
   "outputs": [
    {
     "data": {
      "text/plain": [
       "array([ 28.0198,  25.6094,  26.8   , ...,  30.4926,  29.7431,  26.2   ])"
      ]
     },
     "execution_count": 4,
     "metadata": {},
     "output_type": "execute_result"
    }
   ],
   "source": [
    "df['FE'].values"
   ]
  },
  {
   "cell_type": "code",
   "execution_count": 5,
   "metadata": {
    "collapsed": false
   },
   "outputs": [],
   "source": [
    "#df.as_matrix([\"FE\"])\n",
    "X = df.as_matrix(['EngDispl','NumCyl'])\n",
    "y = df.as_matrix(['FE'])\n",
    "#y1 = y * 1000"
   ]
  },
  {
   "cell_type": "code",
   "execution_count": 8,
   "metadata": {
    "collapsed": false
   },
   "outputs": [
    {
     "name": "stdout",
     "output_type": "stream",
     "text": [
      "sklearn.cross_validation.KFold(n=1107, n_folds=2, shuffle=False, random_state=None)\n"
     ]
    }
   ],
   "source": [
    "kf = cross_validation.KFold(len(X), n_folds=2)\n",
    "print kf"
   ]
  },
  {
   "cell_type": "code",
   "execution_count": 16,
   "metadata": {
    "collapsed": false
   },
   "outputs": [
    {
     "name": "stdout",
     "output_type": "stream",
     "text": [
      "554 553\n"
     ]
    }
   ],
   "source": [
    "for trn_idx, tst_idx in kf:\n",
    "    X_trn, X_tst = X[trn_idx],X[tst_idx]\n",
    "    y_trn, y_tst = y[trn_idx],y[tst_idx]\n",
    "\n",
    "print len(trn_idx), len(tst_idx)    "
   ]
  },
  {
   "cell_type": "code",
   "execution_count": 17,
   "metadata": {
    "collapsed": false
   },
   "outputs": [
    {
     "name": "stdout",
     "output_type": "stream",
     "text": [
      "CLF Score: 0.0759493670886\n"
     ]
    },
    {
     "name": "stderr",
     "output_type": "stream",
     "text": [
      "C:\\Anaconda2\\lib\\site-packages\\sklearn\\svm\\base.py:514: DataConversionWarning: A column-vector y was passed when a 1d array was expected. Please change the shape of y to (n_samples, ), for example using ravel().\n",
      "  y_ = column_or_1d(y, warn=True)\n"
     ]
    }
   ],
   "source": [
    "X_trn = np.array(X_trn)\n",
    "y_trn = np.array(y_trn)\n",
    "clf = svm.SVC(kernel='linear',C=1).fit(X_trn, y_trn.astype(int))\n",
    "print \"CLF Score:\", clf.score(X_tst,y_tst.astype(int))"
   ]
  },
  {
   "cell_type": "code",
   "execution_count": 21,
   "metadata": {
    "collapsed": false
   },
   "outputs": [
    {
     "name": "stdout",
     "output_type": "stream",
     "text": [
      "sklearn.cross_validation.KFold(n=1107, n_folds=4, shuffle=False, random_state=None)\n",
      "831 276\n"
     ]
    }
   ],
   "source": [
    "kf2 = cross_validation.KFold(len(X), n_folds=4)\n",
    "print kf2\n",
    "\n",
    "for trn_idx2, tst_idx2 in kf2:\n",
    "    X_trn2, X_tst2 = X[trn_idx2],X[tst_idx2]\n",
    "    y_trn2, y_tst2 = y[trn_idx2],y[tst_idx2]\n",
    "\n",
    "print len(trn_idx2), len(tst_idx2)"
   ]
  },
  {
   "cell_type": "code",
   "execution_count": 22,
   "metadata": {
    "collapsed": false
   },
   "outputs": [
    {
     "name": "stdout",
     "output_type": "stream",
     "text": [
      "CLF Score: 0.054347826087\n"
     ]
    },
    {
     "name": "stderr",
     "output_type": "stream",
     "text": [
      "C:\\Anaconda2\\lib\\site-packages\\sklearn\\svm\\base.py:514: DataConversionWarning: A column-vector y was passed when a 1d array was expected. Please change the shape of y to (n_samples, ), for example using ravel().\n",
      "  y_ = column_or_1d(y, warn=True)\n"
     ]
    }
   ],
   "source": [
    "X_trn2 = np.array(X_trn2)\n",
    "y_trn2 = np.array(y_trn2)\n",
    "clf2 = svm.SVC(kernel='linear',C=1).fit(X_trn2, y_trn2.astype(int))\n",
    "print \"CLF Score:\", clf.score(X_tst2,y_tst2.astype(int))"
   ]
  },
  {
   "cell_type": "code",
   "execution_count": null,
   "metadata": {
    "collapsed": true
   },
   "outputs": [],
   "source": []
  }
 ],
 "metadata": {
  "kernelspec": {
   "display_name": "Python 2",
   "language": "python",
   "name": "python2"
  },
  "language_info": {
   "codemirror_mode": {
    "name": "ipython",
    "version": 2
   },
   "file_extension": ".py",
   "mimetype": "text/x-python",
   "name": "python",
   "nbconvert_exporter": "python",
   "pygments_lexer": "ipython2",
   "version": "2.7.11"
  }
 },
 "nbformat": 4,
 "nbformat_minor": 0
}
