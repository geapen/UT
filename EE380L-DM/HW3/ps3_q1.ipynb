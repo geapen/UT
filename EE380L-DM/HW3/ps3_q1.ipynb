{
 "cells": [
  {
   "cell_type": "code",
   "execution_count": 1,
   "metadata": {
    "collapsed": true
   },
   "outputs": [],
   "source": [
    "# Name: Gabe Eapen\n",
    "# UT EID: eapengp\n",
    "# PS3 - Q1"
   ]
  },
  {
   "cell_type": "code",
   "execution_count": 2,
   "metadata": {
    "collapsed": true
   },
   "outputs": [],
   "source": [
    "import pandas as pd\n",
    "import numpy as np\n",
    "import matplotlib.pyplot as plt\n",
    "%matplotlib inline\n",
    "from sklearn import datasets, linear_model\n",
    "from pandas import DataFrame, Series\n",
    "import seaborn as sns\n",
    "sns.set(style='ticks', palette='Set2')"
   ]
  },
  {
   "cell_type": "code",
   "execution_count": 3,
   "metadata": {
    "collapsed": false
   },
   "outputs": [],
   "source": [
    "def extract_int(some_string):\n",
    "    int_as_string = (str(some_string)).split('.')[0]\n",
    "    return int(int_as_string)"
   ]
  },
  {
   "cell_type": "code",
   "execution_count": 4,
   "metadata": {
    "collapsed": false
   },
   "outputs": [
    {
     "data": {
      "text/plain": [
       "(41498, 62)"
      ]
     },
     "execution_count": 4,
     "metadata": {},
     "output_type": "execute_result"
    }
   ],
   "source": [
    "df=pd.read_stata(\"nes5200_processed_voters_realideo.dta\")\n",
    "df.shape"
   ]
  },
  {
   "cell_type": "code",
   "execution_count": 5,
   "metadata": {
    "collapsed": false
   },
   "outputs": [
    {
     "name": "stdout",
     "output_type": "stream",
     "text": [
      "Index([u'year', u'resid', u'weight1', u'weight2', u'weight3', u'age',\n",
      "       u'gender', u'race', u'educ1', u'urban', u'region', u'income', u'occup1',\n",
      "       u'union', u'religion', u'educ2', u'educ3', u'martial_status', u'occup2',\n",
      "       u'icpsr_cty', u'fips_cty', u'partyid7', u'partyid3', u'partyid3_b',\n",
      "       u'str_partyid', u'father_party', u'mother_party', u'dlikes', u'rlikes',\n",
      "       u'dem_therm', u'rep_therm', u'regis', u'vote', u'regisvote',\n",
      "       u'presvote', u'presvote_2party', u'presvote_intent', u'ideo_feel',\n",
      "       u'ideo7', u'ideo', u'cd', u'state', u'inter_pre', u'inter_post',\n",
      "       u'black', u'female', u'age_sq', u'rep_presvote', u'rep_pres_intent',\n",
      "       u'south', u'real_ideo', u'presapprov', u'perfin1', u'perfin2',\n",
      "       u'perfin', u'presadm', u'age_10', u'age_sq_10', u'newfathe', u'newmoth',\n",
      "       u'parent_party', u'white'],\n",
      "      dtype='object')\n"
     ]
    }
   ],
   "source": [
    "print(df.columns)"
   ]
  },
  {
   "cell_type": "code",
   "execution_count": 6,
   "metadata": {
    "collapsed": false
   },
   "outputs": [
    {
     "name": "stdout",
     "output_type": "stream",
     "text": [
      "(1304, 62)\n",
      "(1304, 62)\n"
     ]
    }
   ],
   "source": [
    "df_1992_raw = df[(df['year'] == 1992.0) & ((df['presvote'] == \"1. democrat\") | (df['presvote'] == \"2. republican\"))]\n",
    "print df_1992_raw.shape\n",
    "df_ed1992 = df.loc[(df['year'] == 1992.0) & ((df['presvote'] == \"1. democrat\") | (df['presvote'] == \"2. republican\"))]\n",
    "print df_ed1992.shape"
   ]
  },
  {
   "cell_type": "code",
   "execution_count": 7,
   "metadata": {
    "collapsed": false
   },
   "outputs": [
    {
     "name": "stdout",
     "output_type": "stream",
     "text": [
      "(1304, 2)\n",
      "            presvote                  income\n",
      "32092  2. republican  4. 68 to 95 percentile\n",
      "32093  2. republican  2. 17 to 33 percentile\n",
      "32095    1. democrat   1. 0 to 16 percentile\n",
      "32096  2. republican  2. 17 to 33 percentile\n",
      "32097    1. democrat  3. 34 to 67 percentile\n",
      "(1222, 2)\n",
      "presvote    category\n",
      "income      category\n",
      "dtype: object\n",
      "            presvote                  income\n",
      "32092  2. republican  4. 68 to 95 percentile\n",
      "32093  2. republican  2. 17 to 33 percentile\n",
      "32095    1. democrat   1. 0 to 16 percentile\n",
      "32096  2. republican  2. 17 to 33 percentile\n",
      "32097    1. democrat  3. 34 to 67 percentile\n"
     ]
    }
   ],
   "source": [
    "df_vote_inc = pd.DataFrame(df_ed1992,columns=['presvote','income'])\n",
    "print df_vote_inc.shape\n",
    "print df_vote_inc.head()\n",
    "df_clean = df_vote_inc.dropna(how='any')\n",
    "print df_clean.shape\n",
    "#print df_clean.dtypes\n",
    "print df_clean.head()"
   ]
  },
  {
   "cell_type": "code",
   "execution_count": 8,
   "metadata": {
    "collapsed": false
   },
   "outputs": [],
   "source": [
    "cat_columns = df_clean.select_dtypes(['category']).columns\n",
    "#cat_columns    "
   ]
  },
  {
   "cell_type": "code",
   "execution_count": 9,
   "metadata": {
    "collapsed": false
   },
   "outputs": [
    {
     "name": "stderr",
     "output_type": "stream",
     "text": [
      "C:\\Anaconda2\\lib\\site-packages\\pandas\\core\\frame.py:2369: SettingWithCopyWarning: \n",
      "A value is trying to be set on a copy of a slice from a DataFrame.\n",
      "Try using .loc[row_indexer,col_indexer] = value instead\n",
      "\n",
      "See the caveats in the documentation: http://pandas.pydata.org/pandas-docs/stable/indexing.html#indexing-view-versus-copy\n",
      "  self[k1] = value[k2]\n"
     ]
    },
    {
     "data": {
      "text/html": [
       "<div>\n",
       "<table border=\"1\" class=\"dataframe\">\n",
       "  <thead>\n",
       "    <tr style=\"text-align: right;\">\n",
       "      <th></th>\n",
       "      <th>presvote</th>\n",
       "      <th>income</th>\n",
       "    </tr>\n",
       "  </thead>\n",
       "  <tbody>\n",
       "    <tr>\n",
       "      <th>32092</th>\n",
       "      <td>2</td>\n",
       "      <td>4</td>\n",
       "    </tr>\n",
       "    <tr>\n",
       "      <th>32093</th>\n",
       "      <td>2</td>\n",
       "      <td>2</td>\n",
       "    </tr>\n",
       "    <tr>\n",
       "      <th>32095</th>\n",
       "      <td>1</td>\n",
       "      <td>1</td>\n",
       "    </tr>\n",
       "    <tr>\n",
       "      <th>32096</th>\n",
       "      <td>2</td>\n",
       "      <td>2</td>\n",
       "    </tr>\n",
       "    <tr>\n",
       "      <th>32097</th>\n",
       "      <td>1</td>\n",
       "      <td>3</td>\n",
       "    </tr>\n",
       "  </tbody>\n",
       "</table>\n",
       "</div>"
      ],
      "text/plain": [
       "       presvote  income\n",
       "32092         2       4\n",
       "32093         2       2\n",
       "32095         1       1\n",
       "32096         2       2\n",
       "32097         1       3"
      ]
     },
     "execution_count": 9,
     "metadata": {},
     "output_type": "execute_result"
    }
   ],
   "source": [
    "df_clean[cat_columns] = df_clean[cat_columns].apply(lambda x: x.cat.codes + 1)\n",
    "#print vote_D.head()\n",
    "#df_clean.head()"
   ]
  },
  {
   "cell_type": "code",
   "execution_count": 10,
   "metadata": {
    "collapsed": false
   },
   "outputs": [
    {
     "data": {
      "text/plain": [
       "<matplotlib.axes._subplots.AxesSubplot at 0xa1db358>"
      ]
     },
     "execution_count": 10,
     "metadata": {},
     "output_type": "execute_result"
    },
    {
     "data": {
      "image/png": "[encoded data removed]",
      "text/plain": [
       "<matplotlib.figure.Figure at 0xa020c18>"
      ]
     },
     "metadata": {},
     "output_type": "display_data"
    }
   ],
   "source": [
    "df_clean.groupby(['income','presvote']).size().plot(kind='bar',color=['blue','red'])"
   ]
  },
  {
   "cell_type": "code",
   "execution_count": 11,
   "metadata": {
    "collapsed": false
   },
   "outputs": [
    {
     "name": "stdout",
     "output_type": "stream",
     "text": [
      "(720, 2)\n",
      "(502, 2)\n"
     ]
    }
   ],
   "source": [
    "vote_D = df_clean.loc[(df_clean['presvote'] == 1) ]\n",
    "vote_R = df_clean.loc[(df_clean['presvote'] == 2) ]\n",
    "print vote_D.shape\n",
    "print vote_R.shape"
   ]
  },
  {
   "cell_type": "code",
   "execution_count": 13,
   "metadata": {
    "collapsed": false
   },
   "outputs": [
    {
     "data": {
      "text/plain": [
       "array([2, 2, 1, ..., 2, 1, 2], dtype=int8)"
      ]
     },
     "execution_count": 13,
     "metadata": {},
     "output_type": "execute_result"
    }
   ],
   "source": [
    "df_clean['presvote'].values"
   ]
  },
  {
   "cell_type": "code",
   "execution_count": 14,
   "metadata": {
    "collapsed": false
   },
   "outputs": [
    {
     "name": "stdout",
     "output_type": "stream",
     "text": [
      "(1222L,)\n",
      "(1222L,)\n"
     ]
    },
    {
     "data": {
      "text/plain": [
       "LogisticRegression(C=1.0, class_weight=None, dual=False, fit_intercept=True,\n",
       "          intercept_scaling=1, max_iter=100, multi_class='ovr', n_jobs=1,\n",
       "          penalty='l1', random_state=None, solver='liblinear', tol=0.0001,\n",
       "          verbose=0, warm_start=False)"
      ]
     },
     "execution_count": 14,
     "metadata": {},
     "output_type": "execute_result"
    }
   ],
   "source": [
    "X = df_clean['income'].values\n",
    "Y = df_clean['presvote'].values\n",
    "# Reshape as X has only single feature\n",
    "#X.reshape(-1, 1)\n",
    "print X.shape\n",
    "print Y.shape\n",
    "# create the logistic regression object\n",
    "logreg = linear_model.LogisticRegression(fit_intercept=True,solver='liblinear',penalty='l1')\n",
    "logreg.fit(X.reshape(-1, 1), Y)"
   ]
  },
  {
   "cell_type": "code",
   "execution_count": 16,
   "metadata": {
    "collapsed": false
   },
   "outputs": [
    {
     "name": "stdout",
     "output_type": "stream",
     "text": [
      "Coeff: [[ 0.29072854]]\n",
      "Intercept (B0) [-1.25875036]\n"
     ]
    }
   ],
   "source": [
    "print \"Coeff:\",logreg.coef_\n",
    "print \"Intercept (B0)\",logreg.intercept_"
   ]
  },
  {
   "cell_type": "code",
   "execution_count": 56,
   "metadata": {
    "collapsed": true
   },
   "outputs": [],
   "source": [
    "# Part C #"
   ]
  },
  {
   "cell_type": "code",
   "execution_count": 57,
   "metadata": {
    "collapsed": false
   },
   "outputs": [
    {
     "name": "stdout",
     "output_type": "stream",
     "text": [
      "Probability for Republican Inc level 2 0.336865682301\n",
      "Probability for Republican Inc level 3 0.404544542996\n"
     ]
    }
   ],
   "source": [
    "print \"Probability for Republican Inc level 2\", logreg.predict_proba(2)[0][1]\n",
    "print \"Probability for Republican Inc level 3\", logreg.predict_proba(3)[0][1]"
   ]
  },
  {
   "cell_type": "code",
   "execution_count": 58,
   "metadata": {
    "collapsed": false
   },
   "outputs": [],
   "source": [
    "XRepInc_2 = vote_R.loc[(vote_R['income'] == 2) ].values\n",
    "XRepInc_3 = vote_R.loc[(vote_R['income'] == 3) ].values\n"
   ]
  },
  {
   "cell_type": "code",
   "execution_count": 63,
   "metadata": {
    "collapsed": false
   },
   "outputs": [
    {
     "name": "stdout",
     "output_type": "stream",
     "text": [
      "[[ 0.66313432  0.33686568]\n",
      " [ 0.66313432  0.33686568]\n",
      " [ 0.66313432  0.33686568]\n",
      " [ 0.66313432  0.33686568]\n",
      " [ 0.66313432  0.33686568]\n",
      " [ 0.66313432  0.33686568]\n",
      " [ 0.66313432  0.33686568]\n",
      " [ 0.66313432  0.33686568]\n",
      " [ 0.66313432  0.33686568]\n",
      " [ 0.66313432  0.33686568]\n",
      " [ 0.66313432  0.33686568]\n",
      " [ 0.66313432  0.33686568]\n",
      " [ 0.66313432  0.33686568]\n",
      " [ 0.66313432  0.33686568]\n",
      " [ 0.66313432  0.33686568]\n",
      " [ 0.66313432  0.33686568]\n",
      " [ 0.66313432  0.33686568]\n",
      " [ 0.66313432  0.33686568]\n",
      " [ 0.66313432  0.33686568]\n",
      " [ 0.66313432  0.33686568]\n",
      " [ 0.66313432  0.33686568]\n",
      " [ 0.66313432  0.33686568]\n",
      " [ 0.66313432  0.33686568]\n",
      " [ 0.66313432  0.33686568]\n",
      " [ 0.66313432  0.33686568]\n",
      " [ 0.66313432  0.33686568]\n",
      " [ 0.66313432  0.33686568]\n",
      " [ 0.66313432  0.33686568]\n",
      " [ 0.66313432  0.33686568]\n",
      " [ 0.66313432  0.33686568]\n",
      " [ 0.66313432  0.33686568]\n",
      " [ 0.66313432  0.33686568]\n",
      " [ 0.66313432  0.33686568]\n",
      " [ 0.66313432  0.33686568]\n",
      " [ 0.66313432  0.33686568]\n",
      " [ 0.66313432  0.33686568]\n",
      " [ 0.66313432  0.33686568]\n",
      " [ 0.66313432  0.33686568]\n",
      " [ 0.66313432  0.33686568]\n",
      " [ 0.66313432  0.33686568]\n",
      " [ 0.66313432  0.33686568]\n",
      " [ 0.66313432  0.33686568]\n",
      " [ 0.66313432  0.33686568]\n",
      " [ 0.66313432  0.33686568]\n",
      " [ 0.66313432  0.33686568]\n",
      " [ 0.66313432  0.33686568]\n",
      " [ 0.66313432  0.33686568]\n",
      " [ 0.66313432  0.33686568]\n",
      " [ 0.66313432  0.33686568]\n",
      " [ 0.66313432  0.33686568]\n",
      " [ 0.66313432  0.33686568]\n",
      " [ 0.66313432  0.33686568]\n",
      " [ 0.66313432  0.33686568]\n",
      " [ 0.66313432  0.33686568]\n",
      " [ 0.66313432  0.33686568]\n",
      " [ 0.66313432  0.33686568]\n",
      " [ 0.66313432  0.33686568]\n",
      " [ 0.66313432  0.33686568]\n",
      " [ 0.66313432  0.33686568]\n",
      " [ 0.66313432  0.33686568]\n",
      " [ 0.66313432  0.33686568]\n",
      " [ 0.66313432  0.33686568]\n",
      " [ 0.66313432  0.33686568]\n",
      " [ 0.66313432  0.33686568]\n",
      " [ 0.66313432  0.33686568]\n",
      " [ 0.66313432  0.33686568]\n",
      " [ 0.66313432  0.33686568]\n",
      " [ 0.66313432  0.33686568]\n",
      " [ 0.66313432  0.33686568]\n",
      " [ 0.66313432  0.33686568]\n",
      " [ 0.66313432  0.33686568]\n",
      " [ 0.66313432  0.33686568]\n",
      " [ 0.66313432  0.33686568]\n",
      " [ 0.66313432  0.33686568]\n",
      " [ 0.66313432  0.33686568]\n",
      " [ 0.66313432  0.33686568]\n",
      " [ 0.66313432  0.33686568]\n",
      " [ 0.66313432  0.33686568]\n",
      " [ 0.66313432  0.33686568]\n",
      " [ 0.66313432  0.33686568]\n",
      " [ 0.66313432  0.33686568]\n",
      " [ 0.66313432  0.33686568]\n",
      " [ 0.66313432  0.33686568]\n",
      " [ 0.66313432  0.33686568]\n",
      " [ 0.66313432  0.33686568]\n",
      " [ 0.66313432  0.33686568]\n",
      " [ 0.66313432  0.33686568]\n",
      " [ 0.66313432  0.33686568]\n",
      " [ 0.66313432  0.33686568]\n",
      " [ 0.66313432  0.33686568]\n",
      " [ 0.66313432  0.33686568]\n",
      " [ 0.66313432  0.33686568]\n",
      " [ 0.66313432  0.33686568]\n",
      " [ 0.66313432  0.33686568]\n",
      " [ 0.66313432  0.33686568]\n",
      " [ 0.66313432  0.33686568]\n",
      " [ 0.66313432  0.33686568]\n",
      " [ 0.66313432  0.33686568]\n",
      " [ 0.66313432  0.33686568]\n",
      " [ 0.66313432  0.33686568]\n",
      " [ 0.66313432  0.33686568]\n",
      " [ 0.66313432  0.33686568]\n",
      " [ 0.66313432  0.33686568]\n",
      " [ 0.66313432  0.33686568]\n",
      " [ 0.66313432  0.33686568]\n",
      " [ 0.66313432  0.33686568]\n",
      " [ 0.66313432  0.33686568]\n",
      " [ 0.66313432  0.33686568]\n",
      " [ 0.66313432  0.33686568]\n",
      " [ 0.66313432  0.33686568]\n",
      " [ 0.66313432  0.33686568]\n",
      " [ 0.66313432  0.33686568]\n",
      " [ 0.66313432  0.33686568]\n",
      " [ 0.66313432  0.33686568]\n",
      " [ 0.66313432  0.33686568]\n",
      " [ 0.66313432  0.33686568]\n",
      " [ 0.66313432  0.33686568]\n",
      " [ 0.66313432  0.33686568]\n",
      " [ 0.66313432  0.33686568]\n",
      " [ 0.66313432  0.33686568]\n",
      " [ 0.66313432  0.33686568]\n",
      " [ 0.66313432  0.33686568]\n",
      " [ 0.66313432  0.33686568]\n",
      " [ 0.66313432  0.33686568]\n",
      " [ 0.66313432  0.33686568]\n",
      " [ 0.66313432  0.33686568]\n",
      " [ 0.66313432  0.33686568]\n",
      " [ 0.66313432  0.33686568]\n",
      " [ 0.66313432  0.33686568]\n",
      " [ 0.66313432  0.33686568]\n",
      " [ 0.66313432  0.33686568]\n",
      " [ 0.66313432  0.33686568]\n",
      " [ 0.66313432  0.33686568]\n",
      " [ 0.66313432  0.33686568]\n",
      " [ 0.66313432  0.33686568]\n",
      " [ 0.66313432  0.33686568]\n",
      " [ 0.66313432  0.33686568]\n",
      " [ 0.66313432  0.33686568]\n",
      " [ 0.66313432  0.33686568]\n",
      " [ 0.66313432  0.33686568]\n",
      " [ 0.66313432  0.33686568]\n",
      " [ 0.66313432  0.33686568]]\n"
     ]
    }
   ],
   "source": [
    "print logreg.predict_proba(XRepInc_2.reshape(-1,1))"
   ]
  },
  {
   "cell_type": "code",
   "execution_count": 64,
   "metadata": {
    "collapsed": false
   },
   "outputs": [
    {
     "name": "stdout",
     "output_type": "stream",
     "text": [
      "[[ 0.66313432  0.33686568]\n",
      " [ 0.59545546  0.40454454]\n",
      " [ 0.66313432  0.33686568]\n",
      " [ 0.59545546  0.40454454]\n",
      " [ 0.66313432  0.33686568]\n",
      " [ 0.59545546  0.40454454]\n",
      " [ 0.66313432  0.33686568]\n",
      " [ 0.59545546  0.40454454]\n",
      " [ 0.66313432  0.33686568]\n",
      " [ 0.59545546  0.40454454]\n",
      " [ 0.66313432  0.33686568]\n",
      " [ 0.59545546  0.40454454]\n",
      " [ 0.66313432  0.33686568]\n",
      " [ 0.59545546  0.40454454]\n",
      " [ 0.66313432  0.33686568]\n",
      " [ 0.59545546  0.40454454]\n",
      " [ 0.66313432  0.33686568]\n",
      " [ 0.59545546  0.40454454]\n",
      " [ 0.66313432  0.33686568]\n",
      " [ 0.59545546  0.40454454]\n",
      " [ 0.66313432  0.33686568]\n",
      " [ 0.59545546  0.40454454]\n",
      " [ 0.66313432  0.33686568]\n",
      " [ 0.59545546  0.40454454]\n",
      " [ 0.66313432  0.33686568]\n",
      " [ 0.59545546  0.40454454]\n",
      " [ 0.66313432  0.33686568]\n",
      " [ 0.59545546  0.40454454]\n",
      " [ 0.66313432  0.33686568]\n",
      " [ 0.59545546  0.40454454]\n",
      " [ 0.66313432  0.33686568]\n",
      " [ 0.59545546  0.40454454]\n",
      " [ 0.66313432  0.33686568]\n",
      " [ 0.59545546  0.40454454]\n",
      " [ 0.66313432  0.33686568]\n",
      " [ 0.59545546  0.40454454]\n",
      " [ 0.66313432  0.33686568]\n",
      " [ 0.59545546  0.40454454]\n",
      " [ 0.66313432  0.33686568]\n",
      " [ 0.59545546  0.40454454]\n",
      " [ 0.66313432  0.33686568]\n",
      " [ 0.59545546  0.40454454]\n",
      " [ 0.66313432  0.33686568]\n",
      " [ 0.59545546  0.40454454]\n",
      " [ 0.66313432  0.33686568]\n",
      " [ 0.59545546  0.40454454]\n",
      " [ 0.66313432  0.33686568]\n",
      " [ 0.59545546  0.40454454]\n",
      " [ 0.66313432  0.33686568]\n",
      " [ 0.59545546  0.40454454]\n",
      " [ 0.66313432  0.33686568]\n",
      " [ 0.59545546  0.40454454]\n",
      " [ 0.66313432  0.33686568]\n",
      " [ 0.59545546  0.40454454]\n",
      " [ 0.66313432  0.33686568]\n",
      " [ 0.59545546  0.40454454]\n",
      " [ 0.66313432  0.33686568]\n",
      " [ 0.59545546  0.40454454]\n",
      " [ 0.66313432  0.33686568]\n",
      " [ 0.59545546  0.40454454]\n",
      " [ 0.66313432  0.33686568]\n",
      " [ 0.59545546  0.40454454]\n",
      " [ 0.66313432  0.33686568]\n",
      " [ 0.59545546  0.40454454]\n",
      " [ 0.66313432  0.33686568]\n",
      " [ 0.59545546  0.40454454]\n",
      " [ 0.66313432  0.33686568]\n",
      " [ 0.59545546  0.40454454]\n",
      " [ 0.66313432  0.33686568]\n",
      " [ 0.59545546  0.40454454]\n",
      " [ 0.66313432  0.33686568]\n",
      " [ 0.59545546  0.40454454]\n",
      " [ 0.66313432  0.33686568]\n",
      " [ 0.59545546  0.40454454]\n",
      " [ 0.66313432  0.33686568]\n",
      " [ 0.59545546  0.40454454]\n",
      " [ 0.66313432  0.33686568]\n",
      " [ 0.59545546  0.40454454]\n",
      " [ 0.66313432  0.33686568]\n",
      " [ 0.59545546  0.40454454]\n",
      " [ 0.66313432  0.33686568]\n",
      " [ 0.59545546  0.40454454]\n",
      " [ 0.66313432  0.33686568]\n",
      " [ 0.59545546  0.40454454]\n",
      " [ 0.66313432  0.33686568]\n",
      " [ 0.59545546  0.40454454]\n",
      " [ 0.66313432  0.33686568]\n",
      " [ 0.59545546  0.40454454]\n",
      " [ 0.66313432  0.33686568]\n",
      " [ 0.59545546  0.40454454]\n",
      " [ 0.66313432  0.33686568]\n",
      " [ 0.59545546  0.40454454]\n",
      " [ 0.66313432  0.33686568]\n",
      " [ 0.59545546  0.40454454]\n",
      " [ 0.66313432  0.33686568]\n",
      " [ 0.59545546  0.40454454]\n",
      " [ 0.66313432  0.33686568]\n",
      " [ 0.59545546  0.40454454]\n",
      " [ 0.66313432  0.33686568]\n",
      " [ 0.59545546  0.40454454]\n",
      " [ 0.66313432  0.33686568]\n",
      " [ 0.59545546  0.40454454]\n",
      " [ 0.66313432  0.33686568]\n",
      " [ 0.59545546  0.40454454]\n",
      " [ 0.66313432  0.33686568]\n",
      " [ 0.59545546  0.40454454]\n",
      " [ 0.66313432  0.33686568]\n",
      " [ 0.59545546  0.40454454]\n",
      " [ 0.66313432  0.33686568]\n",
      " [ 0.59545546  0.40454454]\n",
      " [ 0.66313432  0.33686568]\n",
      " [ 0.59545546  0.40454454]\n",
      " [ 0.66313432  0.33686568]\n",
      " [ 0.59545546  0.40454454]\n",
      " [ 0.66313432  0.33686568]\n",
      " [ 0.59545546  0.40454454]\n",
      " [ 0.66313432  0.33686568]\n",
      " [ 0.59545546  0.40454454]\n",
      " [ 0.66313432  0.33686568]\n",
      " [ 0.59545546  0.40454454]\n",
      " [ 0.66313432  0.33686568]\n",
      " [ 0.59545546  0.40454454]\n",
      " [ 0.66313432  0.33686568]\n",
      " [ 0.59545546  0.40454454]\n",
      " [ 0.66313432  0.33686568]\n",
      " [ 0.59545546  0.40454454]\n",
      " [ 0.66313432  0.33686568]\n",
      " [ 0.59545546  0.40454454]\n",
      " [ 0.66313432  0.33686568]\n",
      " [ 0.59545546  0.40454454]\n",
      " [ 0.66313432  0.33686568]\n",
      " [ 0.59545546  0.40454454]\n",
      " [ 0.66313432  0.33686568]\n",
      " [ 0.59545546  0.40454454]\n",
      " [ 0.66313432  0.33686568]\n",
      " [ 0.59545546  0.40454454]\n",
      " [ 0.66313432  0.33686568]\n",
      " [ 0.59545546  0.40454454]\n",
      " [ 0.66313432  0.33686568]\n",
      " [ 0.59545546  0.40454454]\n",
      " [ 0.66313432  0.33686568]\n",
      " [ 0.59545546  0.40454454]\n",
      " [ 0.66313432  0.33686568]\n",
      " [ 0.59545546  0.40454454]\n",
      " [ 0.66313432  0.33686568]\n",
      " [ 0.59545546  0.40454454]\n",
      " [ 0.66313432  0.33686568]\n",
      " [ 0.59545546  0.40454454]\n",
      " [ 0.66313432  0.33686568]\n",
      " [ 0.59545546  0.40454454]\n",
      " [ 0.66313432  0.33686568]\n",
      " [ 0.59545546  0.40454454]\n",
      " [ 0.66313432  0.33686568]\n",
      " [ 0.59545546  0.40454454]\n",
      " [ 0.66313432  0.33686568]\n",
      " [ 0.59545546  0.40454454]\n",
      " [ 0.66313432  0.33686568]\n",
      " [ 0.59545546  0.40454454]\n",
      " [ 0.66313432  0.33686568]\n",
      " [ 0.59545546  0.40454454]\n",
      " [ 0.66313432  0.33686568]\n",
      " [ 0.59545546  0.40454454]\n",
      " [ 0.66313432  0.33686568]\n",
      " [ 0.59545546  0.40454454]\n",
      " [ 0.66313432  0.33686568]\n",
      " [ 0.59545546  0.40454454]\n",
      " [ 0.66313432  0.33686568]\n",
      " [ 0.59545546  0.40454454]\n",
      " [ 0.66313432  0.33686568]\n",
      " [ 0.59545546  0.40454454]\n",
      " [ 0.66313432  0.33686568]\n",
      " [ 0.59545546  0.40454454]\n",
      " [ 0.66313432  0.33686568]\n",
      " [ 0.59545546  0.40454454]\n",
      " [ 0.66313432  0.33686568]\n",
      " [ 0.59545546  0.40454454]\n",
      " [ 0.66313432  0.33686568]\n",
      " [ 0.59545546  0.40454454]\n",
      " [ 0.66313432  0.33686568]\n",
      " [ 0.59545546  0.40454454]\n",
      " [ 0.66313432  0.33686568]\n",
      " [ 0.59545546  0.40454454]\n",
      " [ 0.66313432  0.33686568]\n",
      " [ 0.59545546  0.40454454]\n",
      " [ 0.66313432  0.33686568]\n",
      " [ 0.59545546  0.40454454]\n",
      " [ 0.66313432  0.33686568]\n",
      " [ 0.59545546  0.40454454]\n",
      " [ 0.66313432  0.33686568]\n",
      " [ 0.59545546  0.40454454]\n",
      " [ 0.66313432  0.33686568]\n",
      " [ 0.59545546  0.40454454]\n",
      " [ 0.66313432  0.33686568]\n",
      " [ 0.59545546  0.40454454]\n",
      " [ 0.66313432  0.33686568]\n",
      " [ 0.59545546  0.40454454]\n",
      " [ 0.66313432  0.33686568]\n",
      " [ 0.59545546  0.40454454]\n",
      " [ 0.66313432  0.33686568]\n",
      " [ 0.59545546  0.40454454]\n",
      " [ 0.66313432  0.33686568]\n",
      " [ 0.59545546  0.40454454]\n",
      " [ 0.66313432  0.33686568]\n",
      " [ 0.59545546  0.40454454]\n",
      " [ 0.66313432  0.33686568]\n",
      " [ 0.59545546  0.40454454]\n",
      " [ 0.66313432  0.33686568]\n",
      " [ 0.59545546  0.40454454]\n",
      " [ 0.66313432  0.33686568]\n",
      " [ 0.59545546  0.40454454]\n",
      " [ 0.66313432  0.33686568]\n",
      " [ 0.59545546  0.40454454]\n",
      " [ 0.66313432  0.33686568]\n",
      " [ 0.59545546  0.40454454]\n",
      " [ 0.66313432  0.33686568]\n",
      " [ 0.59545546  0.40454454]\n",
      " [ 0.66313432  0.33686568]\n",
      " [ 0.59545546  0.40454454]\n",
      " [ 0.66313432  0.33686568]\n",
      " [ 0.59545546  0.40454454]\n",
      " [ 0.66313432  0.33686568]\n",
      " [ 0.59545546  0.40454454]\n",
      " [ 0.66313432  0.33686568]\n",
      " [ 0.59545546  0.40454454]\n",
      " [ 0.66313432  0.33686568]\n",
      " [ 0.59545546  0.40454454]\n",
      " [ 0.66313432  0.33686568]\n",
      " [ 0.59545546  0.40454454]\n",
      " [ 0.66313432  0.33686568]\n",
      " [ 0.59545546  0.40454454]\n",
      " [ 0.66313432  0.33686568]\n",
      " [ 0.59545546  0.40454454]\n",
      " [ 0.66313432  0.33686568]\n",
      " [ 0.59545546  0.40454454]\n",
      " [ 0.66313432  0.33686568]\n",
      " [ 0.59545546  0.40454454]\n",
      " [ 0.66313432  0.33686568]\n",
      " [ 0.59545546  0.40454454]\n",
      " [ 0.66313432  0.33686568]\n",
      " [ 0.59545546  0.40454454]\n",
      " [ 0.66313432  0.33686568]\n",
      " [ 0.59545546  0.40454454]\n",
      " [ 0.66313432  0.33686568]\n",
      " [ 0.59545546  0.40454454]\n",
      " [ 0.66313432  0.33686568]\n",
      " [ 0.59545546  0.40454454]\n",
      " [ 0.66313432  0.33686568]\n",
      " [ 0.59545546  0.40454454]\n",
      " [ 0.66313432  0.33686568]\n",
      " [ 0.59545546  0.40454454]\n",
      " [ 0.66313432  0.33686568]\n",
      " [ 0.59545546  0.40454454]\n",
      " [ 0.66313432  0.33686568]\n",
      " [ 0.59545546  0.40454454]\n",
      " [ 0.66313432  0.33686568]\n",
      " [ 0.59545546  0.40454454]\n",
      " [ 0.66313432  0.33686568]\n",
      " [ 0.59545546  0.40454454]\n",
      " [ 0.66313432  0.33686568]\n",
      " [ 0.59545546  0.40454454]\n",
      " [ 0.66313432  0.33686568]\n",
      " [ 0.59545546  0.40454454]\n",
      " [ 0.66313432  0.33686568]\n",
      " [ 0.59545546  0.40454454]\n",
      " [ 0.66313432  0.33686568]\n",
      " [ 0.59545546  0.40454454]\n",
      " [ 0.66313432  0.33686568]\n",
      " [ 0.59545546  0.40454454]\n",
      " [ 0.66313432  0.33686568]\n",
      " [ 0.59545546  0.40454454]\n",
      " [ 0.66313432  0.33686568]\n",
      " [ 0.59545546  0.40454454]\n",
      " [ 0.66313432  0.33686568]\n",
      " [ 0.59545546  0.40454454]\n",
      " [ 0.66313432  0.33686568]\n",
      " [ 0.59545546  0.40454454]\n",
      " [ 0.66313432  0.33686568]\n",
      " [ 0.59545546  0.40454454]\n",
      " [ 0.66313432  0.33686568]\n",
      " [ 0.59545546  0.40454454]\n",
      " [ 0.66313432  0.33686568]\n",
      " [ 0.59545546  0.40454454]\n",
      " [ 0.66313432  0.33686568]\n",
      " [ 0.59545546  0.40454454]\n",
      " [ 0.66313432  0.33686568]\n",
      " [ 0.59545546  0.40454454]\n",
      " [ 0.66313432  0.33686568]\n",
      " [ 0.59545546  0.40454454]\n",
      " [ 0.66313432  0.33686568]\n",
      " [ 0.59545546  0.40454454]\n",
      " [ 0.66313432  0.33686568]\n",
      " [ 0.59545546  0.40454454]\n",
      " [ 0.66313432  0.33686568]\n",
      " [ 0.59545546  0.40454454]\n",
      " [ 0.66313432  0.33686568]\n",
      " [ 0.59545546  0.40454454]\n",
      " [ 0.66313432  0.33686568]\n",
      " [ 0.59545546  0.40454454]\n",
      " [ 0.66313432  0.33686568]\n",
      " [ 0.59545546  0.40454454]\n",
      " [ 0.66313432  0.33686568]\n",
      " [ 0.59545546  0.40454454]\n",
      " [ 0.66313432  0.33686568]\n",
      " [ 0.59545546  0.40454454]]\n"
     ]
    }
   ],
   "source": [
    "print logreg.predict_proba(XRepInc_3.reshape(-1,1))"
   ]
  },
  {
   "cell_type": "code",
   "execution_count": null,
   "metadata": {
    "collapsed": true
   },
   "outputs": [],
   "source": []
  }
 ],
 "metadata": {
  "kernelspec": {
   "display_name": "Python 2",
   "language": "python",
   "name": "python2"
  },
  "language_info": {
   "codemirror_mode": {
    "name": "ipython",
    "version": 2
   },
   "file_extension": ".py",
   "mimetype": "text/x-python",
   "name": "python",
   "nbconvert_exporter": "python",
   "pygments_lexer": "ipython2",
   "version": "2.7.11"
  }
 },
 "nbformat": 4,
 "nbformat_minor": 0
}
