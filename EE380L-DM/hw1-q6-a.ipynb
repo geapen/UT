{
 "cells": [
  {
   "cell_type": "code",
   "execution_count": 1,
   "metadata": {
    "collapsed": true
   },
   "outputs": [],
   "source": [
    "# 6a\n",
    "#To warm up, write a gradient descent routine to solve the 1-D least squares regression\n",
    "#problem that you wrote down in class on Sunday. Recall that the gradient descent\n",
    "#algorithm initializes with some x0, and then updates via\n",
    "#x(k+1) = x(k) 􀀀 \u0011f0(x(k)):"
   ]
  },
  {
   "cell_type": "code",
   "execution_count": 2,
   "metadata": {
    "collapsed": false
   },
   "outputs": [],
   "source": [
    "import numpy as np\n",
    "import matplotlib.pyplot as plt\n",
    "%matplotlib inline\n",
    "\n",
    "def fB(x):\n",
    "    return 2.5*B**2 - 4.975*B + 2.48\n",
    "\n",
    "def fB_derivative(x):\n",
    "    return 5*x + 4.975"
   ]
  },
  {
   "cell_type": "code",
   "execution_count": 3,
   "metadata": {
    "collapsed": false,
    "scrolled": true
   },
   "outputs": [
    {
     "data": {
      "text/plain": [
       "[<matplotlib.lines.Line2D at 0x9eff390>]"
      ]
     },
     "execution_count": 3,
     "metadata": {},
     "output_type": "execute_result"
    },
    {
     "data": {
      "image/png": "[encoded data removed]",
      "text/plain": [
       "<matplotlib.figure.Figure at 0x9eff358>"
      ]
     },
     "metadata": {},
     "output_type": "display_data"
    }
   ],
   "source": [
    "B = np.linspace(-10,15,num=50)\n",
    "y = fB(B)\n",
    "fig, ax = plt.subplots() \n",
    "ax.plot(B, y)"
   ]
  },
  {
   "cell_type": "code",
   "execution_count": 4,
   "metadata": {
    "collapsed": false
   },
   "outputs": [
    {
     "name": "stdout",
     "output_type": "stream",
     "text": [
      "Minimum from Gradient Descent occurs at -0.995.\n",
      "[0, -0.4975, -0.74625, -0.870625, -0.9328124999999999, -0.9639062499999999, -0.9794531249999999, -0.9872265625, -0.99111328125, -0.993056640625, -0.9940283203125, -0.9945141601562499, -0.9947570800781249, -0.9948785400390624, -0.9949392700195311, -0.9949696350097655, -0.9949848175048828, -0.9949924087524413, -0.9949962043762206, -0.9949981021881102]\n"
     ]
    }
   ],
   "source": [
    "# Using Gradient Descent\n",
    "x_k = x_k_plus_1 = 0\n",
    "theta = 0.1\n",
    "iterations = 20\n",
    "min_vals = []\n",
    "\n",
    "for x in xrange(iterations):\n",
    "    x_k = x_k_plus_1 \n",
    "    # x(k+1) = x(k) - theta*f'(x(k)) \n",
    "    x_k_plus_1 = x_k - (theta * fB_derivative(x_k))\n",
    "    min_vals.append(x_k)\n",
    "    \n",
    "print(\"Minimum from Gradient Descent occurs at {}.\".format(round(x_k_plus_1,3)))\n",
    "print min_vals"
   ]
  },
  {
   "cell_type": "code",
   "execution_count": null,
   "metadata": {
    "collapsed": true
   },
   "outputs": [],
   "source": []
  }
 ],
 "metadata": {
  "kernelspec": {
   "display_name": "Python 2",
   "language": "python",
   "name": "python2"
  },
  "language_info": {
   "codemirror_mode": {
    "name": "ipython",
    "version": 2
   },
   "file_extension": ".py",
   "mimetype": "text/x-python",
   "name": "python",
   "nbconvert_exporter": "python",
   "pygments_lexer": "ipython2",
   "version": "2.7.11"
  }
 },
 "nbformat": 4,
 "nbformat_minor": 0
}
