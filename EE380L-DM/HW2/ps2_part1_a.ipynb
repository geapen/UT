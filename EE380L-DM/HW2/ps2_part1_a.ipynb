{
 "cells": [
  {
   "cell_type": "code",
   "execution_count": 1,
   "metadata": {
    "collapsed": true
   },
   "outputs": [],
   "source": [
    "import numpy as np\n",
    "import matplotlib.pyplot as plt\n",
    "#%matplotlib inline"
   ]
  },
  {
   "cell_type": "code",
   "execution_count": 2,
   "metadata": {
    "collapsed": false
   },
   "outputs": [],
   "source": [
    "def f(x, Q, q):\n",
    "    return float(0.5* x.T * Q * x + q.T * x)"
   ]
  },
  {
   "cell_type": "code",
   "execution_count": 3,
   "metadata": {
    "collapsed": true
   },
   "outputs": [],
   "source": [
    "def f_grad(x, Q, q):\n",
    "    return ( Q * x + q)"
   ]
  },
  {
   "cell_type": "code",
   "execution_count": 4,
   "metadata": {
    "collapsed": false
   },
   "outputs": [],
   "source": [
    "def f_grad_w_noise(x, Q, q):\n",
    "    return ( Q * x + q) + np.matrix([[np.random.uniform(0, 0.1)], [np.random.uniform(0, 0.1)]])"
   ]
  },
  {
   "cell_type": "code",
   "execution_count": 5,
   "metadata": {
    "collapsed": false
   },
   "outputs": [
    {
     "name": "stdout",
     "output_type": "stream",
     "text": [
      "[ 3.61803399  1.38196601]\n",
      "0.27639320225\n"
     ]
    }
   ],
   "source": [
    "#Use provided values\n",
    "Q = np.matrix([[3.0, 1.0], [1.0, 2.0]])\n",
    "q = np.matrix([[2.0], [1.0]])\n",
    "print np.linalg.eig(Q)[0]\n",
    "# Print optimal step size with no noise\n",
    "print 1 / np.amax(np.linalg.eig(Q)[0])"
   ]
  },
  {
   "cell_type": "code",
   "execution_count": 6,
   "metadata": {
    "collapsed": false
   },
   "outputs": [],
   "source": [
    "x_step = np.matrix([[10.0],[10.0]])\n",
    "iterations = 1000\n",
    "# Choose 0.275 (based on largest Eigen value)\n",
    "eta = .275\n",
    "\n",
    "# Gradient Descent\n",
    "for i in np.arange(iterations)+1:\n",
    "    x_next = x_step[:,-1] - eta * f_grad(x_step[:,-1], Q, q)\n",
    "    x_step = np.c_[x_step,x_next]   "
   ]
  },
  {
   "cell_type": "code",
   "execution_count": 7,
   "metadata": {
    "collapsed": false
   },
   "outputs": [],
   "source": [
    "# Compute Levels\n",
    "plt.figure()\n",
    "size = 200\n",
    "x1_ = np.linspace(-11, 11, num=size)\n",
    "x2_ = np.linspace(-11, 11, num=size)\n",
    "x1, x2 = np.meshgrid(x1_, x2_)\n",
    "\n",
    "levels = np.zeros((len(x1_), len(x2_)))\n",
    "for i in range(len(x1)):\n",
    "    for j in range(len(x2)):\n",
    "        x = np.matrix([[x1[i,j]], [x2[i,j]]])\n",
    "        levels[i, j] = f(x, Q, q)\n",
    "#print levels\n",
    "plt.contour(x1, x2, levels, 50)\n",
    "plt.show()"
   ]
  },
  {
   "cell_type": "code",
   "execution_count": 8,
   "metadata": {
    "collapsed": false
   },
   "outputs": [],
   "source": [
    "# Plot Gradient Descent\n",
    "plt.plot(x_step[0],x_step[1],'bx')\n",
    "plt.ylim(-11,11)\n",
    "plt.xlim(-11,11)\n",
    "plt.contour(x1, x2, levels, 20)\n",
    "plt.show()"
   ]
  },
  {
   "cell_type": "code",
   "execution_count": 9,
   "metadata": {
    "collapsed": true
   },
   "outputs": [],
   "source": [
    "# Noise version\n",
    "x_step2 = np.matrix([[10.0],[10.0]])\n",
    "iterations = 1000\n",
    "# Choose 0.276 - Error tolerance 0.1 ~= 0.175\n",
    "eta = .175\n",
    "# Gradient Descent with Noise    \n",
    "for i in np.arange(iterations)+1:\n",
    "    x_next2 = x_step2[:,-1] - eta * f_grad_w_noise(x_step2[:,-1], Q, q)\n",
    "    x_step2 = np.c_[x_step2,x_next2]"
   ]
  },
  {
   "cell_type": "code",
   "execution_count": 10,
   "metadata": {
    "collapsed": false
   },
   "outputs": [],
   "source": [
    "#Plot Gradient Descent with Noise\n",
    "plt.plot(x_step2[0],x_step2[1],'r+')\n",
    "plt.ylim(-11,11)\n",
    "plt.xlim(-11,11)\n",
    "plt.contour(x1, x2, levels, 20)\n",
    "plt.show()"
   ]
  },
  {
   "cell_type": "code",
   "execution_count": 11,
   "metadata": {
    "collapsed": false
   },
   "outputs": [],
   "source": [
    "# Plot Noise and non-Version together\n",
    "plt.plot(x_step[0],x_step[1],'b^',linewidth=2.0)\n",
    "plt.plot(x_step2[0],x_step2[1],'rx',linewidth=1.0)\n",
    "plt.ylim(-5,11)\n",
    "plt.xlim(-11,11)\n",
    "plt.contour(x1, x2, levels, 20)\n",
    "plt.show()"
   ]
  },
  {
   "cell_type": "code",
   "execution_count": 12,
   "metadata": {
    "collapsed": false
   },
   "outputs": [],
   "source": [
    "#Compare convergence for x1\n",
    "plt.plot(np.arange(1001)+1,np.asarray(x_step)[0],'b',linewidth=2.0)\n",
    "plt.plot(np.arange(1001)+1,np.asarray(x_step2)[0],'r--',linewidth=3.0)\n",
    "plt.ylim(-2, 11)\n",
    "plt.xlim(-1, 50)\n",
    "plt.ylabel('x1',fontsize=16)\n",
    "plt.xlabel('iterations',fontsize=14)\n",
    "plt.title('Convergence of Noise and Non-Noise Gradient Descent - x1',fontsize=14)\n",
    "plt.text(15, 7, 'red dash is noise version', color='red')\n",
    "plt.text(15, 8, 'blue line is non-noise version', color='blue')\n",
    "plt.grid(True)\n",
    "plt.show()"
   ]
  },
  {
   "cell_type": "code",
   "execution_count": null,
   "metadata": {
    "collapsed": false
   },
   "outputs": [],
   "source": [
    "#Compare convergence for x2\n",
    "plt.plot(np.arange(1001)+1,np.asarray(x_step)[1],'b',linewidth=2.0)\n",
    "plt.plot(np.arange(1001)+1,np.asarray(x_step2)[1],'r--',linewidth=3.0)\n",
    "plt.ylim(-2, 11)\n",
    "plt.xlim(-1, 50)\n",
    "plt.ylabel('x2',fontsize=16)\n",
    "plt.xlabel('iterations',fontsize=14)\n",
    "plt.title('Convergence of Noise and Non-Noise Gradient Descent - x2',fontsize=14)\n",
    "plt.text(15, 7, 'red dash is noise version', color='red')\n",
    "plt.text(15, 8, 'blue line is non-noise version', color='blue')\n",
    "plt.grid(True)\n",
    "plt.show()"
   ]
  },
  {
   "cell_type": "code",
   "execution_count": null,
   "metadata": {
    "collapsed": true
   },
   "outputs": [],
   "source": []
  }
 ],
 "metadata": {
  "kernelspec": {
   "display_name": "Python 2",
   "language": "python",
   "name": "python2"
  },
  "language_info": {
   "codemirror_mode": {
    "name": "ipython",
    "version": 2
   },
   "file_extension": ".py",
   "mimetype": "text/x-python",
   "name": "python",
   "nbconvert_exporter": "python",
   "pygments_lexer": "ipython2",
   "version": "2.7.11"
  }
 },
 "nbformat": 4,
 "nbformat_minor": 0
}
