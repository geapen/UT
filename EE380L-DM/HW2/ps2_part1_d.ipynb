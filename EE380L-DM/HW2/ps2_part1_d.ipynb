{
 "cells": [
  {
   "cell_type": "code",
   "execution_count": 1,
   "metadata": {
    "collapsed": true
   },
   "outputs": [],
   "source": [
    "import numpy as np\n",
    "import matplotlib.pyplot as plt\n",
    "import time"
   ]
  },
  {
   "cell_type": "code",
   "execution_count": 2,
   "metadata": {
    "collapsed": false
   },
   "outputs": [
    {
     "name": "stdout",
     "output_type": "stream",
     "text": [
      "(10000L, 100L)\n",
      "7.90058796163e-09\n",
      "0.999999011402\n",
      "(100L, 1L)\n",
      "(10000L, 1L)\n"
     ]
    }
   ],
   "source": [
    "n=10000\n",
    "p=100\n",
    "# X is a nXp matrix\n",
    "X=np.random.rand(n,p)\n",
    "print X.shape\n",
    "print np.amin(X) \n",
    "print np.amax(X) \n",
    "# True Beta is 1\n",
    "BStar = np.ones((p,1), dtype=np.float)\n",
    "BInit = np.full((p, 1), 0.7)\n",
    "print BStar.shape\n",
    "# Noise scaled to be between 0 and 0.1\n",
    "w = np.random.rand(n,1) * 0.1\n",
    "# Compute y with noise\n",
    "y = np.dot(X,BStar) + w\n",
    "print y.shape"
   ]
  },
  {
   "cell_type": "code",
   "execution_count": 3,
   "metadata": {
    "collapsed": true
   },
   "outputs": [],
   "source": [
    "def B_grad_SGD(x, B, y, n):\n",
    "    #pick i randomly for each invocation\n",
    "    i = np.random.randint(n-1)\n",
    "    sum = 2 * x[i,:] * (np.dot(x[i,:],B) - y[i]) \n",
    "    return sum"
   ]
  },
  {
   "cell_type": "code",
   "execution_count": 7,
   "metadata": {
    "collapsed": false
   },
   "outputs": [
    {
     "name": "stdout",
     "output_type": "stream",
     "text": [
      "Elapsed Time (SGD):  0.0110001564026\n"
     ]
    }
   ],
   "source": [
    "# Answer to part D - SGD Gradient Descent\n",
    "beta_step_SGD = np.full((p, 1), 0.7)\n",
    "#print beta_step_SGD\n",
    "iterations = 100\n",
    "eta = 0.022\n",
    "time_step_SGD = np.array([0.])\n",
    "start_time_SGD = time.time()\n",
    "\n",
    "for i in np.arange(iterations)+1:\n",
    "    beta_next_SGD = beta_step_SGD[:,-1] - eta *B_grad_SGD(X,beta_step_SGD[:,-1], y, n)\n",
    "    beta_step_SGD = np.c_[beta_step_SGD,beta_next_SGD]\n",
    "    time_step_SGD = np.concatenate((time_step_SGD,np.array([time.time() - start_time_SGD])))\n",
    "    \n",
    "elapsed_time_SGD = time.time() - start_time_SGD\n",
    "print \"Elapsed Time (SGD): \", elapsed_time_SGD"
   ]
  },
  {
   "cell_type": "code",
   "execution_count": 8,
   "metadata": {
    "collapsed": false
   },
   "outputs": [
    {
     "data": {
      "text/plain": [
       "array([ 0.7       ,  1.0029192 ,  0.97430409,  0.97899571,  0.97109585,\n",
       "        0.97427317,  0.97094655,  0.96451705,  0.95425736,  0.96221156,\n",
       "        0.96403319,  0.96163299,  0.9253333 ,  0.91792793,  0.96648925,\n",
       "        0.96081041,  0.99900153,  0.99830435,  0.9995133 ,  0.99524963,\n",
       "        1.009679  ,  0.99768527,  1.01377386,  1.0109877 ,  1.00814729,\n",
       "        1.00709177,  1.01151314,  1.02515857,  1.05099749,  1.0409894 ,\n",
       "        1.02830904,  1.02750973,  1.06267006,  1.07953498,  1.06702313,\n",
       "        1.06163641,  1.06552663,  1.05967071,  1.06443701,  1.06270825,\n",
       "        1.06631736,  1.06392806,  1.0652994 ,  1.08179394,  1.0793106 ,\n",
       "        1.08093341,  1.03072883,  1.01705445,  1.02149022,  1.02459623,\n",
       "        1.02214395,  1.03358401,  1.02716231,  1.0276148 ,  1.04155422,\n",
       "        1.01159977,  1.01741615,  1.00302342,  1.0011191 ,  0.99484571,\n",
       "        0.99397814,  1.01812505,  1.00818234,  1.00892382,  1.02126279,\n",
       "        0.99394478,  0.98377627,  1.01074449,  1.01603346,  1.00492586,\n",
       "        1.01861032,  1.00566031,  1.02860407,  1.0237245 ,  1.02453346,\n",
       "        0.99893885,  1.01823811,  1.03210487,  1.02979117,  1.02860006,\n",
       "        1.04301924,  1.04250382,  1.03345811,  1.01989379,  1.03715015,\n",
       "        1.0338363 ,  1.02875016,  1.05158076,  1.03711445,  1.05315685,\n",
       "        0.98720647,  0.99196303,  0.99805012,  0.99234232,  1.01450325,\n",
       "        1.00956278,  1.01719329,  1.02203354,  1.00308126,  1.02222065,\n",
       "        1.02424019])"
      ]
     },
     "execution_count": 8,
     "metadata": {},
     "output_type": "execute_result"
    }
   ],
   "source": [
    "beta_step_SGD[5,:]"
   ]
  },
  {
   "cell_type": "code",
   "execution_count": 9,
   "metadata": {
    "collapsed": false
   },
   "outputs": [
    {
     "data": {
      "text/plain": [
       "3.9871010624356013e-06"
      ]
     },
     "execution_count": 9,
     "metadata": {},
     "output_type": "execute_result"
    }
   ],
   "source": [
    "# Compute StepSize\n",
    "1/np.amax(np.linalg.eig(np.dot(X.T,X))[0])\n",
    "#X.T.shape"
   ]
  },
  {
   "cell_type": "code",
   "execution_count": null,
   "metadata": {
    "collapsed": true
   },
   "outputs": [],
   "source": [
    "time_step_SGD = np.array([0.])\n",
    "print time_step_SGD.shape\n",
    "start_time_SGD = time.time()\n",
    "time_next_SGD = np.array([time.time() - start_time_SGD])\n",
    "print time_next_SGD.shape\n",
    "time_step_SGD = np.concatenate((time_step_SGD,time_next_SGD))\n",
    "time_step_SGD"
   ]
  }
 ],
 "metadata": {
  "kernelspec": {
   "display_name": "Python 2",
   "language": "python",
   "name": "python2"
  },
  "language_info": {
   "codemirror_mode": {
    "name": "ipython",
    "version": 2
   },
   "file_extension": ".py",
   "mimetype": "text/x-python",
   "name": "python",
   "nbconvert_exporter": "python",
   "pygments_lexer": "ipython2",
   "version": "2.7.11"
  }
 },
 "nbformat": 4,
 "nbformat_minor": 0
}
