{
 "cells": [
  {
   "cell_type": "code",
   "execution_count": 1,
   "metadata": {
    "collapsed": true
   },
   "outputs": [],
   "source": [
    "# Name: Gabe Eapen\n",
    "# UT EID: eapengp\n",
    "# PS2 - Part 2 - Q4"
   ]
  },
  {
   "cell_type": "code",
   "execution_count": 2,
   "metadata": {
    "collapsed": true
   },
   "outputs": [],
   "source": [
    "# PART A "
   ]
  },
  {
   "cell_type": "code",
   "execution_count": 3,
   "metadata": {
    "collapsed": true
   },
   "outputs": [],
   "source": [
    "import numpy as np\n",
    "import matplotlib.pyplot as plt\n",
    "%matplotlib inline\n",
    "from sklearn import datasets, linear_model\n",
    "import pandas as pd\n",
    "from pandas import DataFrame, Series\n",
    "from __future__ import division"
   ]
  },
  {
   "cell_type": "code",
   "execution_count": 4,
   "metadata": {
    "collapsed": false
   },
   "outputs": [],
   "source": [
    "# PART A\n",
    "X_train = pd.read_csv('lasso_X_train.csv', sep=',', index_col=0)\n",
    "Y_train = pd.read_csv('lasso_Y_train.csv', sep=',', index_col=0, header=None)\n",
    "\n",
    "X_test = pd.read_csv('lasso_X_test.csv', sep=',', index_col=0)\n",
    "Y_test = pd.read_csv('lasso_Y_test.csv', sep=',', index_col=0, header=None)\n",
    "\n",
    "X_cv = pd.read_csv('lasso_X_cv.csv', sep=',', index_col=0)\n",
    "Y_cv = pd.read_csv('lasso_Y_cv.csv', sep=',', index_col=0, header=None)"
   ]
  },
  {
   "cell_type": "code",
   "execution_count": 5,
   "metadata": {
    "collapsed": false
   },
   "outputs": [
    {
     "name": "stdout",
     "output_type": "stream",
     "text": [
      "Training Error:  4.0017766878e-17\n",
      "Testing Error:  10.639848409\n"
     ]
    }
   ],
   "source": [
    "# PART B\n",
    "model_l = linear_model.Lasso(alpha=0.001)\n",
    "\n",
    "# Fit\n",
    "model_l.fit(X_train.values, Y_train.values)\n",
    "\n",
    "Train_Error = np.mean((Y_train.values - model_l.predict(X_train.values)))\n",
    "Test_Error = np.mean(np.square(Y_test.values - model_l.predict(X_test.values)))\n",
    "\n",
    "print \"Training Error: \", Train_Error\n",
    "print \"Testing Error: \", Test_Error\n"
   ]
  },
  {
   "cell_type": "code",
   "execution_count": 8,
   "metadata": {
    "collapsed": false
   },
   "outputs": [],
   "source": [
    "# PART C\n",
    "n_lambdas = 1000\n",
    "lambdas = np.append(0.0, np.logspace(-9,-1, n_lambdas))\n",
    "model_l = linear_model.Lasso()\n",
    "errors_train = []\n",
    "errors_test = []\n",
    "errors_cv = []\n"
   ]
  },
  {
   "cell_type": "code",
   "execution_count": 9,
   "metadata": {
    "collapsed": false
   },
   "outputs": [
    {
     "name": "stderr",
     "output_type": "stream",
     "text": [
      "C:\\Anaconda2\\lib\\site-packages\\ipykernel\\__main__.py:3: UserWarning: With alpha=0, this algorithm does not converge well. You are advised to use the LinearRegression estimator\n",
      "  app.launch_new_instance()\n"
     ]
    }
   ],
   "source": [
    "for a in lambdas:\n",
    "    model_l.set_params(alpha=a)\n",
    "    model_l.fit(X_train.values, Y_train.values)\n",
    "\n",
    "    # Compute Errors for each\n",
    "    errors_train.append(np.mean(np.square(Y_train.values - model_l.predict(X_train.values))))\n",
    "    errors_test.append(np.mean(np.square(Y_test.values - model_l.predict(X_test.values))))\n",
    "    errors_cv.append(np.mean(np.square(Y_cv.values - model_l.predict(X_cv.values))))"
   ]
  },
  {
   "cell_type": "code",
   "execution_count": 12,
   "metadata": {
    "collapsed": false
   },
   "outputs": [
    {
     "name": "stdout",
     "output_type": "stream",
     "text": [
      "625\n",
      "Best Lambda:  9.93109181375e-05\n"
     ]
    }
   ],
   "source": [
    "print np.argmin(errors_test)\n",
    "best_lambda = lambdas[np.argmin(errors_test)]\n",
    "print \"Best Lambda: \", best_lambda"
   ]
  },
  {
   "cell_type": "code",
   "execution_count": 13,
   "metadata": {
    "collapsed": false
   },
   "outputs": [
    {
     "name": "stdout",
     "output_type": "stream",
     "text": [
      "Training Error:  -4.36557456851e-17\n",
      "Testing Error:  7.26776723072\n"
     ]
    }
   ],
   "source": [
    "#PART D\n",
    "model_l = linear_model.Lasso(alpha=best_lambda)\n",
    "model_l.fit(X_train.values, Y_train.values)\n",
    "\n",
    "# Compute the training/testing errors\n",
    "Train_Error = np.mean((Y_train.values - model_l.predict(X_train.values)))\n",
    "Test_Error = np.mean(np.square(Y_test.values - model_l.predict(X_test.values)))\n",
    "\n",
    "print \"Training Error: \", Train_Error\n",
    "print \"Testing Error: \", Test_Error"
   ]
  },
  {
   "cell_type": "code",
   "execution_count": null,
   "metadata": {
    "collapsed": true
   },
   "outputs": [],
   "source": []
  }
 ],
 "metadata": {
  "kernelspec": {
   "display_name": "Python 2",
   "language": "python",
   "name": "python2"
  },
  "language_info": {
   "codemirror_mode": {
    "name": "ipython",
    "version": 2
   },
   "file_extension": ".py",
   "mimetype": "text/x-python",
   "name": "python",
   "nbconvert_exporter": "python",
   "pygments_lexer": "ipython2",
   "version": "2.7.11"
  }
 },
 "nbformat": 4,
 "nbformat_minor": 0
}
