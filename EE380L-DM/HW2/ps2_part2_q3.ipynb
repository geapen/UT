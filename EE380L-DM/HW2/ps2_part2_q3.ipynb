{
 "cells": [
  {
   "cell_type": "code",
   "execution_count": 1,
   "metadata": {
    "collapsed": true
   },
   "outputs": [],
   "source": [
    "# Name: Gabe Eapen\n",
    "# UT EID: eapengp\n",
    "# PS2 - Part 2 - Q3"
   ]
  },
  {
   "cell_type": "code",
   "execution_count": 2,
   "metadata": {
    "collapsed": true
   },
   "outputs": [],
   "source": [
    "# PART A - 2010 data"
   ]
  },
  {
   "cell_type": "code",
   "execution_count": 3,
   "metadata": {
    "collapsed": true
   },
   "outputs": [],
   "source": [
    "import numpy as np\n",
    "import matplotlib.pyplot as plt\n",
    "from sklearn import datasets, linear_model\n",
    "import pandas as pd\n",
    "from pandas import DataFrame, Series\n",
    "from __future__ import division"
   ]
  },
  {
   "cell_type": "code",
   "execution_count": 4,
   "metadata": {
    "collapsed": false
   },
   "outputs": [],
   "source": [
    "df=pd.read_stata(\"cars2010.dta\")"
   ]
  },
  {
   "cell_type": "code",
   "execution_count": 5,
   "metadata": {
    "collapsed": false
   },
   "outputs": [
    {
     "name": "stdout",
     "output_type": "stream",
     "text": [
      "[3.5074074074074071, 5.9710930442637764]\n"
     ]
    }
   ],
   "source": [
    "# get XMean\n",
    "X0 = df.as_matrix([\"EngDispl\",\"NumCyl\"])\n",
    "FE_Y_2010 = df.as_matrix([\"FE\"])\n",
    "Xmean=[]\n",
    "Xmean.append(np.mean(X0[:,0])) \n",
    "Xmean.append(np.mean(X0[:,1])) \n",
    "print Xmean"
   ]
  },
  {
   "cell_type": "code",
   "execution_count": 6,
   "metadata": {
    "collapsed": false
   },
   "outputs": [
    {
     "name": "stdout",
     "output_type": "stream",
     "text": [
      "[1.3053151226197799, 1.8997158959884082]\n",
      "34.7064890696\n"
     ]
    }
   ],
   "source": [
    "sigma=[]\n",
    "sigma.append(np.std(X0[:,0]))\n",
    "sigma.append(np.std(X0[:,1]))\n",
    "print sigma\n",
    "Ymean = np.mean(FE_Y_2010)\n",
    "print Ymean"
   ]
  },
  {
   "cell_type": "code",
   "execution_count": 7,
   "metadata": {
    "collapsed": false
   },
   "outputs": [
    {
     "name": "stdout",
     "output_type": "stream",
     "text": [
      "[[ 0.91364344  1.06800546]\n",
      " [ 0.91364344  1.06800546]\n",
      " [ 0.53059417  1.06800546]\n",
      " ..., \n",
      " [-0.23550436  0.01521646]\n",
      " [-0.23550436  0.01521646]\n",
      " [ 0.68381388  1.06800546]]\n"
     ]
    }
   ],
   "source": [
    "std_X0=X0\n",
    "for i in np.arange(len(X0)):\n",
    "    for j in np.arange(len(X0[0])):\n",
    "        std_X0[i][j]=(X0[i][j] - Xmean[j])/sigma[j]\n",
    "print std_X0"
   ]
  },
  {
   "cell_type": "code",
   "execution_count": 8,
   "metadata": {
    "collapsed": false
   },
   "outputs": [
    {
     "name": "stdout",
     "output_type": "stream",
     "text": [
      "[[-6.68668907]\n",
      " [-9.09708907]\n",
      " [-7.90648907]\n",
      " ..., \n",
      " [-4.21388907]\n",
      " [-4.96338907]\n",
      " [-8.50648907]]\n"
     ]
    }
   ],
   "source": [
    "Y_Center = FE_Y_2010\n",
    "for i in np.arange(len(FE_Y_2010)):\n",
    "    Y_Center[i]=FE_Y_2010[i]-Ymean\n",
    "print Y_Center"
   ]
  },
  {
   "cell_type": "code",
   "execution_count": 9,
   "metadata": {
    "collapsed": false
   },
   "outputs": [
    {
     "name": "stdout",
     "output_type": "stream",
     "text": [
      "When Lambda= 0.01\n",
      "B1 = -4.88866883941\n",
      "B2 = -1.11725589258\n",
      "B0  [ -8.38049530e-16]\n",
      "r2 =  0.623958939675\n"
     ]
    }
   ],
   "source": [
    "#Part B\n",
    "lamda = 0.01\n",
    "model_rr = linear_model.Ridge(alpha =lamda)\n",
    "model_rr.fit(std_X0, Y_Center)\n",
    "coeff=model_rr.coef_\n",
    "print 'When Lambda=', lamda \n",
    "print 'B1 =', coeff[0][0]\n",
    "print 'B2 =', coeff[0][1] \n",
    "print 'B0 ', model_rr.intercept_\n",
    "print 'r2 = ', model_rr.score(std_X0, Y_Center)"
   ]
  },
  {
   "cell_type": "code",
   "execution_count": 10,
   "metadata": {
    "collapsed": false
   },
   "outputs": [
    {
     "name": "stdout",
     "output_type": "stream",
     "text": [
      "When Lambda= 5\n",
      "B1 = -4.79507488508\n",
      "B2 = -1.19668137988\n",
      "B0  [ -8.77082684e-16]\n",
      "r2 =  0.62393043522\n"
     ]
    }
   ],
   "source": [
    "lamda = 5\n",
    "model_rr = linear_model.Ridge(alpha =lamda)\n",
    "model_rr.fit(std_X0, Y_Center)\n",
    "coeff=model_rr.coef_\n",
    "print 'When Lambda=', lamda \n",
    "print 'B1 =', coeff[0][0]\n",
    "print 'B2 =', coeff[0][1] \n",
    "print 'B0 ', model_rr.intercept_\n",
    "print 'r2 = ', model_rr.score(std_X0, Y_Center)"
   ]
  },
  {
   "cell_type": "code",
   "execution_count": 11,
   "metadata": {
    "collapsed": false
   },
   "outputs": [
    {
     "name": "stdout",
     "output_type": "stream",
     "text": [
      "When Lambda= 10000\n",
      "B1 = -0.542643100054\n",
      "B2 = -0.503905302656\n",
      "B0  [ -1.64280226e-15]\n",
      "r2 =  0.194972254986\n"
     ]
    }
   ],
   "source": [
    "lamda = 10000\n",
    "model_rr = linear_model.Ridge(alpha =lamda)\n",
    "model_rr.fit(std_X0, Y_Center)\n",
    "coeff=model_rr.coef_\n",
    "print 'When Lambda=', lamda \n",
    "print 'B1 =', coeff[0][0]\n",
    "print 'B2 =', coeff[0][1] \n",
    "print 'B0 ', model_rr.intercept_\n",
    "print 'r2 = ', model_rr.score(std_X0, Y_Center)"
   ]
  },
  {
   "cell_type": "code",
   "execution_count": 12,
   "metadata": {
    "collapsed": true
   },
   "outputs": [],
   "source": [
    "# Part C\n",
    "df1=pd.read_stata(\"cars2011.dta\")\n",
    "X1 = df1.as_matrix([\"EngDispl\",\"NumCyl\"])\n",
    "FE_Y_2011 = df1.as_matrix([\"FE\"])\n",
    "X1mean=[]\n",
    "X1mean.append(np.mean(X1[:,0])) \n",
    "X1mean.append(np.mean(X1[:,1])) \n"
   ]
  },
  {
   "cell_type": "code",
   "execution_count": 13,
   "metadata": {
    "collapsed": true
   },
   "outputs": [],
   "source": [
    "sigma1=[]\n",
    "sigma1.append(np.std(X1[:,0]))\n",
    "sigma1.append(np.std(X1[:,1]))\n",
    "Ymean1 = np.mean(FE_Y_2011)\n"
   ]
  },
  {
   "cell_type": "code",
   "execution_count": 14,
   "metadata": {
    "collapsed": false
   },
   "outputs": [],
   "source": [
    "std_X1=X1\n",
    "for i in np.arange(len(X1)):\n",
    "    for j in np.arange(len(X1[0])):\n",
    "        std_X1[i][j]=(X1[i][j] - X1mean[j])/sigma1[j]\n"
   ]
  },
  {
   "cell_type": "code",
   "execution_count": 15,
   "metadata": {
    "collapsed": false
   },
   "outputs": [],
   "source": [
    "Y_Center1 = FE_Y_2011\n",
    "for i in np.arange(len(FE_Y_2011)):\n",
    "    Y_Center1[i]=FE_Y_2011[i]-Ymean1\n",
    "#print Y_Center1"
   ]
  },
  {
   "cell_type": "code",
   "execution_count": 23,
   "metadata": {
    "collapsed": false
   },
   "outputs": [
    {
     "name": "stdout",
     "output_type": "stream",
     "text": [
      "Coefficients [L= 0 ]  [[-4.88886479 -1.1170884 ]]\n",
      "Intercept [L= 0 ]  [ -8.37967528e-16]\n",
      "r2 = 0.623958939799\n",
      "Coefficients [L= 0.001 ]  [[-4.88884519 -1.11710515]]\n",
      "Intercept [L= 0.001 ]  [ -8.37975729e-16]\n",
      "r2 = 0.623958939798\n",
      "Coefficients [L= 0.01 ]  [[-4.88866884 -1.11725589]]\n",
      "Intercept [L= 0.01 ]  [ -8.38049530e-16]\n",
      "r2 = 0.623958939675\n",
      "Coefficients [L= 0.1 ]  [[-4.88690687 -1.11876173]]\n",
      "Intercept [L= 0.1 ]  [ -8.38786838e-16]\n",
      "r2 = 0.623958927422\n",
      "Coefficients [L= 1 ]  [[-4.86944216 -1.13366626]]\n",
      "Intercept [L= 1 ]  [ -8.46090060e-16]\n",
      "r2 = 0.623957721019\n",
      "Coefficients [L= 10 ]  [[-4.70893834 -1.26868796]]\n",
      "Intercept [L= 10 ]  [ -9.12750278e-16]\n",
      "r2 = 0.623853611485\n",
      "Coefficients [L= 100 ]  [[-3.82749986 -1.90671901]]\n",
      "Intercept [L= 100 ]  [ -1.25458771e-15]\n",
      "r2 = 0.619847045333\n"
     ]
    }
   ],
   "source": [
    "lambdaList = [0,0.001,0.01,0.1,1,10,100]\n",
    "for L in lambdaList:\n",
    "    model_rr = linear_model.Ridge(alpha = L)\n",
    "    model_rr.fit(std_X0, Y_Center)\n",
    "    print \"Coefficients [L=\",L,\"] \",model_rr.coef_\n",
    "    print \"Intercept [L=\",L,\"] \",model_rr.intercept_\n",
    "    print \"r2 =\",model_rr.score(X0,FE_Y_2010)"
   ]
  },
  {
   "cell_type": "code",
   "execution_count": 24,
   "metadata": {
    "collapsed": false
   },
   "outputs": [
    {
     "name": "stdout",
     "output_type": "stream",
     "text": [
      "Coefficients [L= 0 ]  [[-5.8258967  -2.04233847]]\n",
      "Intercept [L= 0 ]  [ -6.67111699e-16]\n",
      "r2 = 0.709795966141\n",
      "Coefficients [L= 0.001 ]  [[-5.82579615 -2.04242227]]\n",
      "Intercept [L= 0.001 ]  [ -6.67089827e-16]\n",
      "r2 = 0.70979596612\n",
      "Coefficients [L= 0.01 ]  [[-5.82489157 -2.04317601]]\n",
      "Intercept [L= 0.01 ]  [ -6.66893075e-16]\n",
      "r2 = 0.709795964137\n",
      "Coefficients [L= 0.1 ]  [[-5.81588574 -2.05067383]]\n",
      "Intercept [L= 0.1 ]  [ -6.64934802e-16]\n",
      "r2 = 0.709795767266\n",
      "Coefficients [L= 1 ]  [[-5.72963895 -2.12187227]]\n",
      "Intercept [L= 1 ]  [ -6.46233628e-16]\n",
      "r2 = 0.709777458332\n",
      "Coefficients [L= 10 ]  [[-5.12405807 -2.58007675]]\n",
      "Intercept [L= 10 ]  [ -5.18552931e-16]\n",
      "r2 = 0.70872791014\n",
      "Coefficients [L= 100 ]  [[-3.56542497 -2.92115038]]\n",
      "Intercept [L= 100 ]  [ -2.62862347e-16]\n",
      "r2 = 0.683238364945\n"
     ]
    }
   ],
   "source": [
    "lambdaList = [0,0.001,0.01,0.1,1,10,100]\n",
    "for L in lambdaList:\n",
    "    model_rr = linear_model.Ridge(alpha = L)\n",
    "    model_rr.fit(std_X1, Y_Center1)\n",
    "    print \"Coefficients [L=\",L,\"] \",model_rr.coef_\n",
    "    print \"Intercept [L=\",L,\"] \",model_rr.intercept_\n",
    "    print \"r2 =\",model_rr.score(X1,FE_Y_2011)"
   ]
  },
  {
   "cell_type": "code",
   "execution_count": null,
   "metadata": {
    "collapsed": true
   },
   "outputs": [],
   "source": []
  }
 ],
 "metadata": {
  "kernelspec": {
   "display_name": "Python 2",
   "language": "python",
   "name": "python2"
  },
  "language_info": {
   "codemirror_mode": {
    "name": "ipython",
    "version": 2
   },
   "file_extension": ".py",
   "mimetype": "text/x-python",
   "name": "python",
   "nbconvert_exporter": "python",
   "pygments_lexer": "ipython2",
   "version": "2.7.11"
  }
 },
 "nbformat": 4,
 "nbformat_minor": 0
}
