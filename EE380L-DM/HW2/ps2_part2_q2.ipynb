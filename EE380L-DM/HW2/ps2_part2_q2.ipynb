{
 "cells": [
  {
   "cell_type": "code",
   "execution_count": null,
   "metadata": {
    "collapsed": true
   },
   "outputs": [],
   "source": [
    "# Name: Gabe Eapen\n",
    "# UT EID: eapengp\n",
    "# PS2 - Part 2 - Q2"
   ]
  },
  {
   "cell_type": "code",
   "execution_count": null,
   "metadata": {
    "collapsed": true
   },
   "outputs": [],
   "source": [
    "# PART A - 2010 data"
   ]
  },
  {
   "cell_type": "code",
   "execution_count": null,
   "metadata": {
    "collapsed": true
   },
   "outputs": [],
   "source": [
    "import pandas as pd\n",
    "import numpy as np\n",
    "import matplotlib.pyplot as plt\n",
    "%matplotlib inline\n",
    "import statsmodels.api as sm\n",
    "from scipy import linalg\n",
    "from sklearn import linear_model"
   ]
  },
  {
   "cell_type": "code",
   "execution_count": null,
   "metadata": {
    "collapsed": true
   },
   "outputs": [],
   "source": [
    "df=pd.read_stata(\"cars2010.dta\")"
   ]
  },
  {
   "cell_type": "code",
   "execution_count": null,
   "metadata": {
    "collapsed": false
   },
   "outputs": [],
   "source": [
    "X = df[\"EngDispl\"]\n",
    "A = np.vstack([X, np.ones(len(X))]).T\n",
    "#print A\n",
    "y = np.array(df[\"FE\"])\n",
    "#m, c = np.linalg.lstsq(A, y)[0]\n",
    "#B1, B0 = np.linalg.lstsq(A, y)[0]\n",
    "model, resid = np.linalg.lstsq(A, y)[:2]\n",
    "B1, B0 = model\n",
    "#np.linalg.lstsq(A, y)\n",
    "print(\"m(B1) is: {}.\".format(round(B1,8)))\n",
    "print(\"c(B0) is: {}.\".format(round(B0,8)))\n",
    "r2 = 1 - resid / (y.size * y.var())\n",
    "print(\"R2 is: {}.\".format(round(r2[0],8)))"
   ]
  },
  {
   "cell_type": "code",
   "execution_count": null,
   "metadata": {
    "collapsed": false
   },
   "outputs": [],
   "source": [
    "plt_2010, = plt.plot(df[\"EngDispl\"],df[\"FE\"],'g*')\n",
    "plt.grid(True)\n",
    "plt.ylabel(\"Fuel Economy\",fontsize=12)\n",
    "plt.xlabel(\"Engine Displacement\",fontsize=12)\n",
    "plt.title(\"FE vs Eng. Disp.\")\n",
    "plt.xlim(0, 9)\n",
    "plt.ylim(10, 75)\n",
    "xVals = np.arange(0, 325)\n",
    "yVals = (B1*xVals) + B0\n",
    "plt.plot(xVals,yVals,'b-',linewidth=2.0)\n",
    "plt.show()"
   ]
  },
  {
   "cell_type": "code",
   "execution_count": null,
   "metadata": {
    "collapsed": true
   },
   "outputs": [],
   "source": [
    "df2=pd.read_stata(\"cars2011.dta\")"
   ]
  },
  {
   "cell_type": "code",
   "execution_count": null,
   "metadata": {
    "collapsed": false
   },
   "outputs": [],
   "source": [
    "X = df2[\"EngDispl\"]\n",
    "A = np.vstack([X, np.ones(len(X))]).T\n",
    "#print A\n",
    "y = np.array(df2[\"FE\"])\n",
    "#m, c = np.linalg.lstsq(A, y)[0]\n",
    "#B1, B0 = np.linalg.lstsq(A, y)[0]\n",
    "model, resid = np.linalg.lstsq(A, y)[:2]\n",
    "B1, B0 = model\n",
    "#np.linalg.lstsq(A, y)\n",
    "print(\"m(B1) is: {}.\".format(round(B1,8)))\n",
    "print(\"c(B0) is: {}.\".format(round(B0,8)))\n",
    "r2 = 1 - resid / (y.size * y.var())\n",
    "print(\"R2 is: {}.\".format(round(r2[0],8)))"
   ]
  },
  {
   "cell_type": "code",
   "execution_count": null,
   "metadata": {
    "collapsed": false
   },
   "outputs": [],
   "source": [
    "plt_2011, = plt.plot(df2[\"EngDispl\"],df2[\"FE\"],'g*')\n",
    "plt.grid(True)\n",
    "plt.ylabel(\"Fuel Economy\",fontsize=12)\n",
    "plt.xlabel(\"Engine Displacement\",fontsize=12)\n",
    "plt.title(\"FE vs Eng. Disp.\")\n",
    "plt.xlim(0, 9)\n",
    "plt.ylim(10, 75)\n",
    "xVals = np.arange(0, 325)\n",
    "yVals = (B1*xVals) + B0\n",
    "plt.plot(xVals,yVals,'b-',linewidth=2.0)\n",
    "plt.show()"
   ]
  },
  {
   "cell_type": "code",
   "execution_count": null,
   "metadata": {
    "collapsed": true
   },
   "outputs": [],
   "source": [
    "df3=pd.read_stata(\"cars2012.dta\")"
   ]
  },
  {
   "cell_type": "code",
   "execution_count": null,
   "metadata": {
    "collapsed": false
   },
   "outputs": [],
   "source": [
    "X = df3[\"EngDispl\"]\n",
    "A = np.vstack([X, np.ones(len(X))]).T\n",
    "#print A\n",
    "y = np.array(df3[\"FE\"])\n",
    "#m, c = np.linalg.lstsq(A, y)[0]\n",
    "#B1, B0 = np.linalg.lstsq(A, y)[0]\n",
    "model, resid = np.linalg.lstsq(A, y)[:2]\n",
    "B1, B0 = model\n",
    "#np.linalg.lstsq(A, y)\n",
    "print(\"m(B1) is: {}.\".format(round(B1,8)))\n",
    "print(\"c(B0) is: {}.\".format(round(B0,8)))\n",
    "r2 = 1 - resid / (y.size * y.var())\n",
    "print(\"R2 is: {}.\".format(round(r2[0],8)))"
   ]
  },
  {
   "cell_type": "code",
   "execution_count": null,
   "metadata": {
    "collapsed": false
   },
   "outputs": [],
   "source": [
    "plt_2012, = plt.plot(df2[\"EngDispl\"],df2[\"FE\"],'g*')\n",
    "plt.grid(True)\n",
    "plt.ylabel(\"Fuel Economy\",fontsize=12)\n",
    "plt.xlabel(\"Engine Displacement\",fontsize=12)\n",
    "plt.title(\"FE vs Eng. Disp.\")\n",
    "plt.xlim(0, 9)\n",
    "plt.ylim(10, 75)\n",
    "xVals = np.arange(0, 325)\n",
    "yVals = (B1*xVals) + B0\n",
    "plt.plot(xVals,yVals,'b-',linewidth=2.0)\n",
    "plt.show()"
   ]
  },
  {
   "cell_type": "code",
   "execution_count": null,
   "metadata": {
    "collapsed": false
   },
   "outputs": [],
   "source": [
    "#Part C \n",
    "df=pd.read_stata(\"cars2010.dta\")\n",
    "df1=pd.read_stata(\"cars2011.dta\")\n",
    "df2=pd.read_stata(\"cars2012.dta\")\n",
    "X_2010 = df.as_matrix([\"EngDispl\",\"NumCyl\"])\n",
    "X_2011 = df1.as_matrix([\"EngDispl\",\"NumCyl\"])\n",
    "X_2012 = df2.as_matrix([\"EngDispl\",\"NumCyl\"])\n",
    "FE_Y_2010 = df.as_matrix([\"FE\"])\n",
    "FE_Y_2011 = df1.as_matrix([\"FE\"])\n",
    "FE_Y_2012 = df2.as_matrix([\"FE\"])\n"
   ]
  },
  {
   "cell_type": "code",
   "execution_count": null,
   "metadata": {
    "collapsed": true
   },
   "outputs": [],
   "source": [
    "X0 = np.column_stack((X_2010,np.ones(FE_Y_2010.shape[0])))\n",
    "X1 = np.column_stack((X_2011,np.ones(FE_Y_2011.shape[0])))\n",
    "X2 = np.column_stack((X_2012,np.ones(FE_Y_2012.shape[0])))"
   ]
  },
  {
   "cell_type": "code",
   "execution_count": null,
   "metadata": {
    "collapsed": false
   },
   "outputs": [],
   "source": [
    "# Estimate Sigma\n",
    "def sigma_estimate(B,X,Y):\n",
    "    b0 = B[2]\n",
    "    b1 = B[1]\n",
    "    b2 = B[0]\n",
    "    sum = 0.0\n",
    "    for i in np.arange(len(X)):\n",
    "        sum += np.square(Y[i]-(b0 + np.dot(X[i][0],b1) + np.dot(X[i][1],b2)))\n",
    "    return (sum / (len(X) - 2))\n",
    "    "
   ]
  },
  {
   "cell_type": "code",
   "execution_count": null,
   "metadata": {
    "collapsed": false
   },
   "outputs": [],
   "source": [
    "# Compute Beta_hat 2010\n",
    "B_hat =np.dot(np.dot(np.linalg.inv(np.dot(X0.transpose(),X0)),X0.transpose()),FE_Y_2010)\n",
    "print B_hat"
   ]
  },
  {
   "cell_type": "code",
   "execution_count": null,
   "metadata": {
    "collapsed": false
   },
   "outputs": [],
   "source": [
    "print \"Sigma Estimate Cars 2010: \", sigma_estimate(B_hat,X0,FE_Y_2010)"
   ]
  },
  {
   "cell_type": "code",
   "execution_count": null,
   "metadata": {
    "collapsed": false
   },
   "outputs": [],
   "source": [
    "# Compute Beta_hat 2011\n",
    "B_hat =np.dot(np.dot(np.linalg.inv(np.dot(X1.transpose(),X1)),X1.transpose()),FE_Y_2011)\n",
    "print B_hat"
   ]
  },
  {
   "cell_type": "code",
   "execution_count": null,
   "metadata": {
    "collapsed": false
   },
   "outputs": [],
   "source": [
    "print \"Sigma Estimate Cars 2011: \", sigma_estimate(B_hat,X1,FE_Y_2011)"
   ]
  },
  {
   "cell_type": "code",
   "execution_count": null,
   "metadata": {
    "collapsed": false
   },
   "outputs": [],
   "source": [
    "# Compute Beta_hat 2012\n",
    "B_hat =np.dot(np.dot(np.linalg.inv(np.dot(X2.transpose(),X2)),X2.transpose()),FE_Y_2012)\n",
    "print B_hat"
   ]
  },
  {
   "cell_type": "code",
   "execution_count": null,
   "metadata": {
    "collapsed": false
   },
   "outputs": [],
   "source": [
    "print \"Sigma Estimate Cars 2012: \", sigma_estimate(B_hat,X2,FE_Y_2012)"
   ]
  },
  {
   "cell_type": "code",
   "execution_count": null,
   "metadata": {
    "collapsed": false
   },
   "outputs": [],
   "source": [
    "#PART D\n",
    "B_hat =np.dot(np.dot(np.linalg.inv(np.dot(X0.transpose(),X0)),X0.transpose()),FE_Y_2010)\n",
    "sigma_2010 = sigma_estimate(B_hat,X0,FE_Y_2010)\n",
    "cov_B = (np.square(sigma_2010)) * (np.linalg.inv(np.dot(X0.transpose(),X0)))\n",
    "print cov_B"
   ]
  },
  {
   "cell_type": "code",
   "execution_count": null,
   "metadata": {
    "collapsed": true
   },
   "outputs": [],
   "source": []
  }
 ],
 "metadata": {
  "kernelspec": {
   "display_name": "Python 2",
   "language": "python",
   "name": "python2"
  },
  "language_info": {
   "codemirror_mode": {
    "name": "ipython",
    "version": 2
   },
   "file_extension": ".py",
   "mimetype": "text/x-python",
   "name": "python",
   "nbconvert_exporter": "python",
   "pygments_lexer": "ipython2",
   "version": "2.7.11"
  }
 },
 "nbformat": 4,
 "nbformat_minor": 0
}
